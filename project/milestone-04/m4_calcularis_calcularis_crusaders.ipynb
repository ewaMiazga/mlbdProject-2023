{
 "cells": [
  {
   "attachments": {},
   "cell_type": "markdown",
   "id": "8af48ca1-b6d1-4092-b7b5-037d3c2d7aef",
   "metadata": {
    "id": "8af48ca1-b6d1-4092-b7b5-037d3c2d7aef"
   },
   "source": [
    "# M4 | Research Investigation Notebook\n",
    "\n",
    "In this notebook, you will do a research investigation of your chosen dataset in teams. You will begin by formally selecting your research question (task 0), then processing your data (task 1), creating a predictive model (task 2), evaluating your model's results (task 3), and describing the contributions of each team member (task 4).\n",
    "\n",
    "For grading, please make sure your notebook has all cells run and is stored in your team's [Github Classroom repository](https://classroom.github.com/a/CNxME27U). You will also need to write a short, 2 page report about your design decisions as a team, to be stored in your repository. The Milestone 4 submission will be the contents of your repository at the due date (April 28 at 23:59 CET).\n",
    "\n",
    "## Brief overview of Calcularis\n",
    "[Calcularis](https://school.alemira.com/de/calcularis/) by Alemira School is a mathematics learning program developed with neuroscientists and computer scientists from ETH Zurich. It promotes the development and interaction of the different areas of the brain that are responsible for processing numbers and quantities and solving mathematical tasks. Calcularis can be used from 1st grade to high school. Children with dyscalculia also benefit in the long term and overcome their arithmetic weakness.\n",
    "\n",
    "The Calcularis dataset has three main tables:\n",
    "* ***users***: meta information about users (i.e. total time spent learning with Calcularis, geographic location).\n",
    "* ***events***: events done by the users in the platform (i.e. playing a game, selecting a new animal in the zoo simulation).\n",
    "* ***subtasks***: sub-tasks with answer attempts solved by users, primarily in the context of game events.\n",
    "\n",
    "These tables and useful metadata information are described in detail in the [Milestone 2 data exploration notebook](https://github.com/epfl-ml4ed/mlbd-2023/blob/main/project/milestone-02/m2_calcularis_sciper.ipynb).\n",
    "\n",
    "We have provided access to the [full dataset](https://moodle.epfl.ch/mod/forum/discuss.php?d=88179) (~65k users) and a randomly selected subset (~1k users from M2). We have also provided access to a [test account to experiment with Calcularis](https://moodle.epfl.ch/mod/forum/discuss.php?d=88094). You should provide arguments and justifications for all of your design decisions throughout this investigation. You can use your M3 responses as the basis for this discussion."
   ]
  },
  {
   "cell_type": "code",
   "execution_count": 2,
   "id": "e98f12a9",
   "metadata": {},
   "outputs": [],
   "source": [
    "#Imports\n",
    "import numpy as np\n",
    "import pandas as pd\n",
    "import matplotlib.pyplot as plt\n",
    "\n",
    "import networkx as nx\n",
    "import pandas as pd\n",
    "import pygraphviz as pgv\n",
    "from pygraphviz import AGraph\n",
    "import random"
   ]
  },
  {
   "cell_type": "code",
   "execution_count": 3,
   "id": "82ea2d32-f0a9-4dc9-bb60-be43399f5b89",
   "metadata": {
    "id": "82ea2d32-f0a9-4dc9-bb60-be43399f5b89"
   },
   "outputs": [],
   "source": [
    "# Import the tables of the data set as dataframes.\n",
    "\n",
    "DATA_DIR = './data' # You many change the directory\n",
    "\n",
    "# You can use the nrows=X argument in pd.read_csv to truncate your data\n",
    "users = pd.read_csv('{}/calcularis_small_users.csv'.format(DATA_DIR), index_col=0)\n",
    "events = pd.read_csv('{}/calcularis_small_events.csv'.format(DATA_DIR), index_col=0)\n",
    "subtasks = pd.read_csv('{}/calcularis_small_subtasks.csv'.format(DATA_DIR), index_col=0)"
   ]
  },
  {
   "cell_type": "markdown",
   "id": "54c7eecd",
   "metadata": {},
   "source": [
    "## Task 0: Research Question"
   ]
  },
  {
   "cell_type": "markdown",
   "id": "ec1c9055",
   "metadata": {},
   "source": [
    "**Research question:**\n",
    "*Your chosen research question goes here*"
   ]
  },
  {
   "cell_type": "markdown",
   "id": "a77f62b0-1945-48f1-8f22-5f6ebda1db8e",
   "metadata": {
    "id": "a77f62b0-1945-48f1-8f22-5f6ebda1db8e"
   },
   "source": [
    "## Task 1: Data Preprocessing\n",
    "\n",
    "In this section, you are asked to preprocess your data in a way that is relevant for the model. Please include 1-2 visualizations of features / data explorations that are related to your downstream prediction task."
   ]
  },
  {
   "cell_type": "code",
   "execution_count": 4,
   "id": "36b6078c",
   "metadata": {},
   "outputs": [
    {
     "name": "stdout",
     "output_type": "stream",
     "text": [
      "34094\n",
      "55047\n"
     ]
    }
   ],
   "source": [
    "# In subtasks dataset exist more event_id than in events dataset\n",
    "print(len(events))\n",
    "print(len(subtasks))\n",
    "subtasks = subtasks[subtasks.event_id < len(events)]\n",
    "\n",
    "# set the game names in subtasks dataset\n",
    "subtasks = subtasks.copy()\n",
    "subtasks['game_name'] = events.iloc[subtasks['event_id']]['game_name'].values"
   ]
  },
  {
   "cell_type": "code",
   "execution_count": 5,
   "id": "34cefd0d-4f8a-4227-8fb4-f30521abf78d",
   "metadata": {
    "id": "34cefd0d-4f8a-4227-8fb4-f30521abf78d"
   },
   "outputs": [],
   "source": [
    "# Your code for data processing goes here\n",
    "#G = nx.MultiGraph(nx.nx_agraph.read_dot('04_calcularis_skill_map_dot_file.dot'))\n",
    "#G = pgv.AGraph('04_calcularis_skill_map_dot_file.dot', directed=False)"
   ]
  },
  {
   "cell_type": "markdown",
   "id": "76d0fcca-686e-47a3-8567-c3f92db187d4",
   "metadata": {
    "id": "76d0fcca-686e-47a3-8567-c3f92db187d4"
   },
   "source": [
    "*Your discussion about your processing decisions goes here*"
   ]
  },
  {
   "cell_type": "code",
   "execution_count": 14,
   "id": "a80dd978",
   "metadata": {},
   "outputs": [],
   "source": [
    "#Create graph as long as we dont have one\n",
    "DG = nx.path_graph(5, create_using=nx.DiGraph)\n",
    "\n",
    "#The data to check how the calculate_mastery_level function works\n",
    "user_subtasks = subtasks.loc[subtasks['user_id'] == 1]\n",
    "user_subtasks = user_subtasks.copy()\n",
    "user_subtasks['subtask_finished_timestamp'] = pd.to_datetime(user_subtasks['subtask_finished_timestamp'])\n",
    "\n",
    "user_subtasks = user_subtasks.dropna(subset=['subtask_finished_timestamp'])\n",
    "\n",
    "start_date = user_subtasks['subtask_finished_timestamp'].min()\n",
    "\n",
    "# Add the week number\n",
    "user_subtasks['week_number'] = (((user_subtasks.subtask_finished_timestamp.view(np.int64) - pd.to_datetime([start_date]).view(np.int64)) / (1e9 * 60 * 60 * 24) - user_subtasks.subtask_finished_timestamp.dt.day_of_week + 7) // 7 + 1).astype(np.int64)"
   ]
  },
  {
   "cell_type": "code",
   "execution_count": 15,
   "id": "bb7d5585",
   "metadata": {},
   "outputs": [
    {
     "data": {
      "text/plain": [
       "0.2222222222222222"
      ]
     },
     "execution_count": 15,
     "metadata": {},
     "output_type": "execute_result"
    }
   ],
   "source": [
    "def calculate_mastery_level(G, user_subtasks, week, game):\n",
    "    #Find the node id of the specified game\n",
    "    node_id = 2 \n",
    "\n",
    "    #Find the games of which the correctness should be calculated\n",
    "    #games_graph = sorted(nx.ancestors(DG, 2) | {2})\n",
    "    #games = ['Subitizing', 'Conversion', 'Landing']\n",
    "\n",
    "    games = [game]\n",
    "    \n",
    "    answers = []\n",
    "    user_subtasks = user_subtasks[user_subtasks['week_number'] < week]\n",
    "    for idx, subtask in user_subtasks.iterrows():\n",
    "        answers.append(subtask['game_name'] in games and subtask['correct'])\n",
    "\n",
    "    if not answers:\n",
    "        return 0\n",
    "    return sum(answers) / len(answers)\n",
    "\n",
    "calculate_mastery_level(DG, user_subtasks, 10, 'Subitizing')"
   ]
  },
  {
   "cell_type": "code",
   "execution_count": 16,
   "id": "82ad7c5d",
   "metadata": {},
   "outputs": [],
   "source": [
    "#create multindex\n",
    "def create_dataframe_multi_index(G):\n",
    "    multi_index = [[], [], []]\n",
    "    df = pd.DataFrame(columns = ['mastery_level'], index = multi_index)\n",
    "    df.index = df.index.set_names(['user_id', 'game_name', 'week'])\n",
    "\n",
    "    for user_id, user in users.iterrows():\n",
    "        #Get weeks\n",
    "        user_subtasks = subtasks.loc[subtasks['user_id'] == user_id]\n",
    "        user_subtasks = user_subtasks.copy()\n",
    "        user_subtasks['subtask_finished_timestamp'] = pd.to_datetime(user_subtasks['subtask_finished_timestamp'])\n",
    "        #user_subtasks.loc['subtask_finished_timestamp'] = user_subtasks.loc['subtask_finished_timestamp'].astype('datetime64[ns]')\n",
    "        start_date = user_subtasks['subtask_finished_timestamp'].min()\n",
    "\n",
    "        user_subtasks = user_subtasks.dropna(subset=['subtask_finished_timestamp'])\n",
    "        # Add the week number\n",
    "        user_subtasks['week_number'] = (((user_subtasks.subtask_finished_timestamp.view(np.int64) - pd.to_datetime([start_date]).view(np.int64)) / (1e9 * 60 * 60 * 24) - user_subtasks.subtask_finished_timestamp.dt.day_of_week + 7) // 7 + 1).astype(np.int64)\n",
    "        \n",
    "        #Get unique games names\n",
    "        game_names = events.loc[subtasks['event_id']]['game_name'].unique()\n",
    "\n",
    "        #Create an part of index\n",
    "        unique_weeks = user_subtasks['week_number'].unique()\n",
    "        len_weeks = len(unique_weeks)\n",
    "        len_game_names = len(game_names)\n",
    "\n",
    "        user_ids = [user_id for i in range(len_weeks * len_game_names)]\n",
    "\n",
    "        weeks = user_subtasks['week_number'].unique()\n",
    "        weeks = np.concatenate([weeks]* (len_game_names))\n",
    "\n",
    "        user_unique_games = [game for game in game_names for week in range(len_weeks)]\n",
    "\n",
    "        tuples = list(zip(user_ids, user_unique_games, weeks))\n",
    "\n",
    "        index = pd.MultiIndex.from_tuples(tuples, names=['user_id', 'game_name', 'week'])\n",
    "\n",
    "        df1 = pd.DataFrame(columns = ['mastery_level'], index = index)\n",
    "\n",
    "        #mastery_level = np.array([1 for i in range(len_weeks * len_game_names)])\n",
    "        mastery_level = []\n",
    "        \n",
    "        for game in game_names:\n",
    "            for week in unique_weeks:\n",
    "                #Calculate the skill id in the certain game after a certain number of weeks\n",
    "                lv = calculate_mastery_level(G, user_subtasks, week, game)\n",
    "                mastery_level.append(lv)\n",
    "                \n",
    "        mastery_level = pd.DataFrame(mastery_level, columns = ['mastery_level'])\n",
    "        mastery_level.index = index\n",
    "        df1['mastery_level'] = mastery_level\n",
    "        df = pd.concat([df, df1], axis=0)\n",
    "    return df\n",
    "\n",
    "df = create_dataframe_multi_index(DG)"
   ]
  },
  {
   "cell_type": "code",
   "execution_count": 20,
   "id": "f29b82ab",
   "metadata": {},
   "outputs": [],
   "source": [
    "df.loc[[45]]\n",
    "#df.loc[(457, 'Subitizing'), :]\n",
    "random_user_ids = random.sample(range(len(users)), 10)\n",
    "#sers.iloc[random_user_ids]"
   ]
  },
  {
   "cell_type": "code",
   "execution_count": 21,
   "id": "47a77fb7",
   "metadata": {},
   "outputs": [
    {
     "ename": "KeyError",
     "evalue": "(589, 'Subitizing')",
     "output_type": "error",
     "traceback": [
      "\u001b[1;31m---------------------------------------------------------------------------\u001b[0m",
      "\u001b[1;31mKeyError\u001b[0m                                  Traceback (most recent call last)",
      "Cell \u001b[1;32mIn[21], line 11\u001b[0m\n\u001b[0;32m      8\u001b[0m         plt\u001b[39m.\u001b[39mylabel(\u001b[39m'\u001b[39m\u001b[39mmastery_level\u001b[39m\u001b[39m'\u001b[39m)\n\u001b[0;32m      9\u001b[0m     plt\u001b[39m.\u001b[39mshow()\n\u001b[1;32m---> 11\u001b[0m show_mastery_lvl(df, random_user_ids, \u001b[39m'\u001b[39;49m\u001b[39mSubitizing\u001b[39;49m\u001b[39m'\u001b[39;49m)\n",
      "Cell \u001b[1;32mIn[21], line 5\u001b[0m, in \u001b[0;36mshow_mastery_lvl\u001b[1;34m(df, users, game)\u001b[0m\n\u001b[0;32m      3\u001b[0m fig, ax \u001b[39m=\u001b[39m plt\u001b[39m.\u001b[39msubplots()\n\u001b[0;32m      4\u001b[0m \u001b[39mfor\u001b[39;00m user \u001b[39min\u001b[39;00m users:\n\u001b[1;32m----> 5\u001b[0m     temp_df \u001b[39m=\u001b[39m df\u001b[39m.\u001b[39;49mloc[(user \u001b[39m+\u001b[39;49m \u001b[39m1\u001b[39;49m, \u001b[39m'\u001b[39;49m\u001b[39mSubitizing\u001b[39;49m\u001b[39m'\u001b[39;49m), :]\n\u001b[0;32m      6\u001b[0m     temp_df\u001b[39m.\u001b[39mplot(y\u001b[39m=\u001b[39m\u001b[39m'\u001b[39m\u001b[39mmastery_level\u001b[39m\u001b[39m'\u001b[39m, kind\u001b[39m=\u001b[39m\u001b[39m'\u001b[39m\u001b[39mline\u001b[39m\u001b[39m'\u001b[39m, title\u001b[39m=\u001b[39m\u001b[39mf\u001b[39m\u001b[39m'\u001b[39m\u001b[39mMastery of \u001b[39m\u001b[39m{\u001b[39;00mgame\u001b[39m}\u001b[39;00m\u001b[39m Over Time\u001b[39m\u001b[39m'\u001b[39m, ax\u001b[39m=\u001b[39max)\n\u001b[0;32m      7\u001b[0m     plt\u001b[39m.\u001b[39mxlabel(\u001b[39m'\u001b[39m\u001b[39mweeks\u001b[39m\u001b[39m'\u001b[39m)\n",
      "File \u001b[1;32mc:\\Users\\ewa.miazga\\AppData\\Local\\Programs\\Python\\Python39\\lib\\site-packages\\pandas\\core\\indexing.py:1067\u001b[0m, in \u001b[0;36m_LocationIndexer.__getitem__\u001b[1;34m(self, key)\u001b[0m\n\u001b[0;32m   1065\u001b[0m     \u001b[39mif\u001b[39;00m \u001b[39mself\u001b[39m\u001b[39m.\u001b[39m_is_scalar_access(key):\n\u001b[0;32m   1066\u001b[0m         \u001b[39mreturn\u001b[39;00m \u001b[39mself\u001b[39m\u001b[39m.\u001b[39mobj\u001b[39m.\u001b[39m_get_value(\u001b[39m*\u001b[39mkey, takeable\u001b[39m=\u001b[39m\u001b[39mself\u001b[39m\u001b[39m.\u001b[39m_takeable)\n\u001b[1;32m-> 1067\u001b[0m     \u001b[39mreturn\u001b[39;00m \u001b[39mself\u001b[39;49m\u001b[39m.\u001b[39;49m_getitem_tuple(key)\n\u001b[0;32m   1068\u001b[0m \u001b[39melse\u001b[39;00m:\n\u001b[0;32m   1069\u001b[0m     \u001b[39m# we by definition only have the 0th axis\u001b[39;00m\n\u001b[0;32m   1070\u001b[0m     axis \u001b[39m=\u001b[39m \u001b[39mself\u001b[39m\u001b[39m.\u001b[39maxis \u001b[39mor\u001b[39;00m \u001b[39m0\u001b[39m\n",
      "File \u001b[1;32mc:\\Users\\ewa.miazga\\AppData\\Local\\Programs\\Python\\Python39\\lib\\site-packages\\pandas\\core\\indexing.py:1247\u001b[0m, in \u001b[0;36m_LocIndexer._getitem_tuple\u001b[1;34m(self, tup)\u001b[0m\n\u001b[0;32m   1245\u001b[0m \u001b[39mwith\u001b[39;00m suppress(IndexingError):\n\u001b[0;32m   1246\u001b[0m     tup \u001b[39m=\u001b[39m \u001b[39mself\u001b[39m\u001b[39m.\u001b[39m_expand_ellipsis(tup)\n\u001b[1;32m-> 1247\u001b[0m     \u001b[39mreturn\u001b[39;00m \u001b[39mself\u001b[39;49m\u001b[39m.\u001b[39;49m_getitem_lowerdim(tup)\n\u001b[0;32m   1249\u001b[0m \u001b[39m# no multi-index, so validate all of the indexers\u001b[39;00m\n\u001b[0;32m   1250\u001b[0m tup \u001b[39m=\u001b[39m \u001b[39mself\u001b[39m\u001b[39m.\u001b[39m_validate_tuple_indexer(tup)\n",
      "File \u001b[1;32mc:\\Users\\ewa.miazga\\AppData\\Local\\Programs\\Python\\Python39\\lib\\site-packages\\pandas\\core\\indexing.py:941\u001b[0m, in \u001b[0;36m_LocationIndexer._getitem_lowerdim\u001b[1;34m(self, tup)\u001b[0m\n\u001b[0;32m    939\u001b[0m \u001b[39m# we may have a nested tuples indexer here\u001b[39;00m\n\u001b[0;32m    940\u001b[0m \u001b[39mif\u001b[39;00m \u001b[39mself\u001b[39m\u001b[39m.\u001b[39m_is_nested_tuple_indexer(tup):\n\u001b[1;32m--> 941\u001b[0m     \u001b[39mreturn\u001b[39;00m \u001b[39mself\u001b[39;49m\u001b[39m.\u001b[39;49m_getitem_nested_tuple(tup)\n\u001b[0;32m    943\u001b[0m \u001b[39m# we maybe be using a tuple to represent multiple dimensions here\u001b[39;00m\n\u001b[0;32m    944\u001b[0m ax0 \u001b[39m=\u001b[39m \u001b[39mself\u001b[39m\u001b[39m.\u001b[39mobj\u001b[39m.\u001b[39m_get_axis(\u001b[39m0\u001b[39m)\n",
      "File \u001b[1;32mc:\\Users\\ewa.miazga\\AppData\\Local\\Programs\\Python\\Python39\\lib\\site-packages\\pandas\\core\\indexing.py:1047\u001b[0m, in \u001b[0;36m_LocationIndexer._getitem_nested_tuple\u001b[1;34m(self, tup)\u001b[0m\n\u001b[0;32m   1044\u001b[0m     axis \u001b[39m-\u001b[39m\u001b[39m=\u001b[39m \u001b[39m1\u001b[39m\n\u001b[0;32m   1045\u001b[0m     \u001b[39mcontinue\u001b[39;00m\n\u001b[1;32m-> 1047\u001b[0m obj \u001b[39m=\u001b[39m \u001b[39mgetattr\u001b[39;49m(obj, \u001b[39mself\u001b[39;49m\u001b[39m.\u001b[39;49mname)\u001b[39m.\u001b[39;49m_getitem_axis(key, axis\u001b[39m=\u001b[39;49maxis)\n\u001b[0;32m   1048\u001b[0m axis \u001b[39m-\u001b[39m\u001b[39m=\u001b[39m \u001b[39m1\u001b[39m\n\u001b[0;32m   1050\u001b[0m \u001b[39m# if we have a scalar, we are done\u001b[39;00m\n",
      "File \u001b[1;32mc:\\Users\\ewa.miazga\\AppData\\Local\\Programs\\Python\\Python39\\lib\\site-packages\\pandas\\core\\indexing.py:1312\u001b[0m, in \u001b[0;36m_LocIndexer._getitem_axis\u001b[1;34m(self, key, axis)\u001b[0m\n\u001b[0;32m   1310\u001b[0m \u001b[39m# fall thru to straight lookup\u001b[39;00m\n\u001b[0;32m   1311\u001b[0m \u001b[39mself\u001b[39m\u001b[39m.\u001b[39m_validate_key(key, axis)\n\u001b[1;32m-> 1312\u001b[0m \u001b[39mreturn\u001b[39;00m \u001b[39mself\u001b[39;49m\u001b[39m.\u001b[39;49m_get_label(key, axis\u001b[39m=\u001b[39;49maxis)\n",
      "File \u001b[1;32mc:\\Users\\ewa.miazga\\AppData\\Local\\Programs\\Python\\Python39\\lib\\site-packages\\pandas\\core\\indexing.py:1260\u001b[0m, in \u001b[0;36m_LocIndexer._get_label\u001b[1;34m(self, label, axis)\u001b[0m\n\u001b[0;32m   1258\u001b[0m \u001b[39mdef\u001b[39;00m \u001b[39m_get_label\u001b[39m(\u001b[39mself\u001b[39m, label, axis: \u001b[39mint\u001b[39m):\n\u001b[0;32m   1259\u001b[0m     \u001b[39m# GH#5567 this will fail if the label is not present in the axis.\u001b[39;00m\n\u001b[1;32m-> 1260\u001b[0m     \u001b[39mreturn\u001b[39;00m \u001b[39mself\u001b[39;49m\u001b[39m.\u001b[39;49mobj\u001b[39m.\u001b[39;49mxs(label, axis\u001b[39m=\u001b[39;49maxis)\n",
      "File \u001b[1;32mc:\\Users\\ewa.miazga\\AppData\\Local\\Programs\\Python\\Python39\\lib\\site-packages\\pandas\\core\\generic.py:4049\u001b[0m, in \u001b[0;36mNDFrame.xs\u001b[1;34m(self, key, axis, level, drop_level)\u001b[0m\n\u001b[0;32m   4046\u001b[0m \u001b[39mself\u001b[39m\u001b[39m.\u001b[39m_consolidate_inplace()\n\u001b[0;32m   4048\u001b[0m \u001b[39mif\u001b[39;00m \u001b[39misinstance\u001b[39m(index, MultiIndex):\n\u001b[1;32m-> 4049\u001b[0m     loc, new_index \u001b[39m=\u001b[39m index\u001b[39m.\u001b[39;49m_get_loc_level(key, level\u001b[39m=\u001b[39;49m\u001b[39m0\u001b[39;49m)\n\u001b[0;32m   4050\u001b[0m     \u001b[39mif\u001b[39;00m \u001b[39mnot\u001b[39;00m drop_level:\n\u001b[0;32m   4051\u001b[0m         \u001b[39mif\u001b[39;00m lib\u001b[39m.\u001b[39mis_integer(loc):\n",
      "File \u001b[1;32mc:\\Users\\ewa.miazga\\AppData\\Local\\Programs\\Python\\Python39\\lib\\site-packages\\pandas\\core\\indexes\\multi.py:3099\u001b[0m, in \u001b[0;36mMultiIndex._get_loc_level\u001b[1;34m(self, key, level)\u001b[0m\n\u001b[0;32m   3096\u001b[0m         \u001b[39mpass\u001b[39;00m\n\u001b[0;32m   3098\u001b[0m \u001b[39m# partial selection\u001b[39;00m\n\u001b[1;32m-> 3099\u001b[0m indexer \u001b[39m=\u001b[39m \u001b[39mself\u001b[39;49m\u001b[39m.\u001b[39;49mget_loc(key)\n\u001b[0;32m   3100\u001b[0m ilevels \u001b[39m=\u001b[39m [i \u001b[39mfor\u001b[39;00m i \u001b[39min\u001b[39;00m \u001b[39mrange\u001b[39m(\u001b[39mlen\u001b[39m(key)) \u001b[39mif\u001b[39;00m key[i] \u001b[39m!=\u001b[39m \u001b[39mslice\u001b[39m(\u001b[39mNone\u001b[39;00m, \u001b[39mNone\u001b[39;00m)]\n\u001b[0;32m   3101\u001b[0m \u001b[39mif\u001b[39;00m \u001b[39mlen\u001b[39m(ilevels) \u001b[39m==\u001b[39m \u001b[39mself\u001b[39m\u001b[39m.\u001b[39mnlevels:\n",
      "File \u001b[1;32mc:\\Users\\ewa.miazga\\AppData\\Local\\Programs\\Python\\Python39\\lib\\site-packages\\pandas\\core\\indexes\\multi.py:2952\u001b[0m, in \u001b[0;36mMultiIndex.get_loc\u001b[1;34m(self, key, method)\u001b[0m\n\u001b[0;32m   2949\u001b[0m         \u001b[39mraise\u001b[39;00m \u001b[39mKeyError\u001b[39;00m(key) \u001b[39mfrom\u001b[39;00m \u001b[39merr\u001b[39;00m\n\u001b[0;32m   2951\u001b[0m \u001b[39mif\u001b[39;00m start \u001b[39m==\u001b[39m stop:\n\u001b[1;32m-> 2952\u001b[0m     \u001b[39mraise\u001b[39;00m \u001b[39mKeyError\u001b[39;00m(key)\n\u001b[0;32m   2954\u001b[0m \u001b[39mif\u001b[39;00m \u001b[39mnot\u001b[39;00m follow_key:\n\u001b[0;32m   2955\u001b[0m     \u001b[39mreturn\u001b[39;00m \u001b[39mslice\u001b[39m(start, stop)\n",
      "\u001b[1;31mKeyError\u001b[0m: (589, 'Subitizing')"
     ]
    },
    {
     "data": {
      "image/png": "[encoded data removed]",
      "text/plain": [
       "<Figure size 640x480 with 1 Axes>"
      ]
     },
     "metadata": {},
     "output_type": "display_data"
    }
   ],
   "source": [
    "#Create visualization\n",
    "def show_mastery_lvl(df, users, game):\n",
    "    fig, ax = plt.subplots()\n",
    "    for user in users:\n",
    "        temp_df = df.loc[(user + 1, 'Subitizing'), :]\n",
    "        temp_df.plot(y='mastery_level', kind='line', title=f'Mastery of {game} Over Time', ax=ax)\n",
    "        plt.xlabel('weeks')\n",
    "        plt.ylabel('mastery_level')\n",
    "    plt.show()\n",
    "\n",
    "show_mastery_lvl(df, random_user_ids, 'Subitizing')"
   ]
  },
  {
   "cell_type": "markdown",
   "id": "85633adb-d317-4ee3-bf06-e9f82f589c41",
   "metadata": {
    "id": "85633adb-d317-4ee3-bf06-e9f82f589c41"
   },
   "source": [
    "## Task 2: Model Building\n",
    "\n",
    "Train a model for your research question. "
   ]
  },
  {
   "cell_type": "code",
   "execution_count": null,
   "id": "90b65ebd-c148-4ae8-833e-018411eeda86",
   "metadata": {
    "id": "90b65ebd-c148-4ae8-833e-018411eeda86"
   },
   "outputs": [],
   "source": [
    "# Your code for training a model goes here"
   ]
  },
  {
   "cell_type": "markdown",
   "id": "bb9dd126",
   "metadata": {},
   "source": [
    "*Your discussion about your model training goes here*"
   ]
  },
  {
   "cell_type": "markdown",
   "id": "b3c9a655-cec9-4c57-aec7-7a982f57a3af",
   "metadata": {
    "id": "b3c9a655-cec9-4c57-aec7-7a982f57a3af"
   },
   "source": [
    "## Task 3: Model Evaluation\n",
    "In this task, you will use metrics to evaluate your model."
   ]
  },
  {
   "cell_type": "code",
   "execution_count": null,
   "id": "d01e838f",
   "metadata": {},
   "outputs": [],
   "source": [
    "# Your code for model evaluation goes here"
   ]
  },
  {
   "cell_type": "markdown",
   "id": "d57e3f3d",
   "metadata": {},
   "source": [
    "*Your discussion/interpretation about your model's behavior goes here*"
   ]
  },
  {
   "attachments": {},
   "cell_type": "markdown",
   "id": "1607d4b3",
   "metadata": {},
   "source": [
    "## Task 4: Team Reflection\n",
    "Please describe the contributions of each team member to Milestone 4. Reflect on how you worked as team: what went well, what can be improved for the next milestone?"
   ]
  },
  {
   "attachments": {},
   "cell_type": "markdown",
   "id": "eb3dd783",
   "metadata": {},
   "source": [
    "*Your discussion about team responsibilities goes here*"
   ]
  }
 ],
 "metadata": {
  "colab": {
   "collapsed_sections": [],
   "name": "m2-classtime-sciper.ipynb",
   "provenance": []
  },
  "kernelspec": {
   "display_name": "Python 3",
   "language": "python",
   "name": "python3"
  },
  "language_info": {
   "codemirror_mode": {
    "name": "ipython",
    "version": 3
   },
   "file_extension": ".py",
   "mimetype": "text/x-python",
   "name": "python",
   "nbconvert_exporter": "python",
   "pygments_lexer": "ipython3",
   "version": "3.9.2rc1"
  },
  "vscode": {
   "interpreter": {
    "hash": "6a552de0a42a98a523e8f67ee9117f7b13e645144e58150911097f2b178b1554"
   }
  }
 },
 "nbformat": 4,
 "nbformat_minor": 5
}
