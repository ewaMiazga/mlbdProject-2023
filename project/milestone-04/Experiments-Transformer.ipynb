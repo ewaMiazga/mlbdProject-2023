{
 "cells": [
  {
   "cell_type": "code",
   "execution_count": 2,
   "id": "efd67644-603b-4a06-a6ed-5c0be430e004",
   "metadata": {},
   "outputs": [],
   "source": [
    "# References: https://www.kaggle.com/code/wangsg/a-self-attentive-model-for-knowledge-tracing/notebook"
   ]
  },
  {
   "attachments": {},
   "cell_type": "markdown",
   "id": "f05fd127-07a3-46ac-81c0-0110b6a2c775",
   "metadata": {},
   "source": [
    "# Self-Attention Model simple"
   ]
  },
  {
   "cell_type": "code",
   "execution_count": 1,
   "id": "8201ac96-0525-495a-99ea-f46e10bee727",
   "metadata": {},
   "outputs": [],
   "source": [
    "# Import the tables of the data set as dataframes.\n",
    "import numpy as np\n",
    "import pandas as pd\n",
    "import matplotlib.pyplot as plt\n",
    "import seaborn as sns\n",
    "from pandas.api.types import is_numeric_dtype\n",
    "\n",
    "\n",
    "DATA_DIR = '../mlbd-2023/data/'\n",
    "\n",
    "users = pd.read_csv('{}/small_users.csv'.format(DATA_DIR), index_col=0)\n",
    "events = pd.read_csv('{}/small_events.csv'.format(DATA_DIR), index_col=0)\n",
    "subtasks = pd.read_csv('{}/small_subtasks.csv'.format(DATA_DIR), index_col=0)\n"
   ]
  },
  {
   "cell_type": "code",
   "execution_count": 5,
   "id": "5847a2d3-7ccf-4122-af56-4d10735e2951",
   "metadata": {},
   "outputs": [],
   "source": [
    "import torch\n",
    "import torch.nn as nn\n",
    "import torch.nn.utils.rnn as rnn_utils\n",
    "from torch.autograd import Variable\n",
    "from torch.utils.data import Dataset, DataLoader\n",
    "import math"
   ]
  },
  {
   "cell_type": "code",
   "execution_count": 25,
   "id": "b8f7286d-40ca-4180-b245-f9eca2213aef",
   "metadata": {},
   "outputs": [],
   "source": [
    "import gc\n",
    "import random\n",
    "from tqdm import tqdm\n",
    "from sklearn.metrics import roc_auc_score\n",
    "from sklearn.model_selection import train_test_split\n"
   ]
  },
  {
   "attachments": {},
   "cell_type": "markdown",
   "id": "6796c3c9-1b3e-4783-9c7a-c0d1d71db2b6",
   "metadata": {},
   "source": [
    "## Create time series\n",
    "- Create column \"week_sequential\" -> Normalize dates to start at 1 for every student\n",
    "- Join events and subtasks on event_id. Ignore subtasks not tied to an event\n"
   ]
  },
  {
   "cell_type": "code",
   "execution_count": 6,
   "id": "b120d6a5-2be4-40bc-a6ca-a028399588f9",
   "metadata": {},
   "outputs": [],
   "source": [
    "events[['Year', 'Week', 'Day']] = pd.to_datetime(events['start']).dt.isocalendar()\n",
    "events['year_week'] = ((events['Year'] - 2015) * 53 + events['Week']).astype(int)\n",
    "ts = events.reset_index().groupby(['user_id','year_week'])['event_id'].count().reset_index()\n",
    "ts.rename(columns={'event_id':'num_events'}, inplace=True)"
   ]
  },
  {
   "cell_type": "code",
   "execution_count": 7,
   "id": "7c43b60f-310b-49bc-b279-f564bcb41288",
   "metadata": {},
   "outputs": [
    {
     "name": "stdout",
     "output_type": "stream",
     "text": [
      "427\n",
      "Some events have no subtasks\n",
      "0\n",
      "There are no subtasks which don't correspond to an event\n",
      "We don't care about subtasks which don't have a coresponding event_id because we don't know what skill they are for\n"
     ]
    }
   ],
   "source": [
    "print(len(set(events.reset_index().event_id.unique()) - set(subtasks.event_id.unique())))\n",
    "print(\"Some events have no subtasks\")\n",
    "print(len(set(subtasks.event_id.unique()) - set(events.reset_index().event_id.unique())))\n",
    "print(\"There are no subtasks which don't correspond to an event\")\n",
    "print(\"We don't care about subtasks which don't have a coresponding event_id because we don't know what skill they are for\")"
   ]
  },
  {
   "cell_type": "code",
   "execution_count": 8,
   "id": "ed1c6621-ba61-4acd-8472-e46f160ef324",
   "metadata": {},
   "outputs": [],
   "source": [
    "events_and_substasks = events.reset_index().merge(subtasks.reset_index(), how='left', on=['event_id','user_id'], suffixes=('_event', '_subtask'))\n",
    "events_and_substasks['date'] = pd.to_datetime(events_and_substasks['start'])\n",
    "events_and_substasks[['Year', 'Week', 'Day']] = events_and_substasks['date'].dt.isocalendar()\n",
    "events_and_substasks['year_week'] = (events_and_substasks['Year'] - 2015) * 53 + events_and_substasks['Week']\n",
    "events_and_substasks['week_sequential'] = events_and_substasks.groupby('user_id')['year_week'].apply(lambda x: x - x.iat[0])"
   ]
  },
  {
   "cell_type": "code",
   "execution_count": 9,
   "id": "fe72249f-9172-43a2-a6a7-8fe45e278d11",
   "metadata": {},
   "outputs": [],
   "source": [
    "task_events = events_and_substasks.query('type_event == \"task\" & correct != \"nan\"')"
   ]
  },
  {
   "attachments": {},
   "cell_type": "markdown",
   "id": "97da697b-8e58-4e73-9461-2099594835c1",
   "metadata": {},
   "source": [
    "## Feature Selection\n",
    "- Ignore categorical features with nulls for now"
   ]
  },
  {
   "cell_type": "code",
   "execution_count": 10,
   "id": "68336857-54d4-4033-a65f-0905bbcad065",
   "metadata": {},
   "outputs": [],
   "source": [
    "index = ['event_id','user_id']\n",
    "cat_features = ['mode_event', 'game_name','number_range','skill_id', 'type_subtask']\n",
    "cat_features_withnulls = [ 'destination', 'multiplier','operator','representation', 'solutionRepresentation', 'solveMode']\n",
    "date_features = ['date','Year', 'Week', 'Day','week_sequential']\n",
    "target_feature = ['correct']"
   ]
  },
  {
   "cell_type": "code",
   "execution_count": 11,
   "id": "24abed13-a345-4938-b0b2-eba76e9dde8e",
   "metadata": {},
   "outputs": [],
   "source": [
    "df = task_events[index + cat_features + date_features + target_feature]"
   ]
  },
  {
   "attachments": {},
   "cell_type": "markdown",
   "id": "302c09f2-fa2c-48d2-919c-218a132e978d",
   "metadata": {},
   "source": [
    "## Feature Engineering\n",
    "- Create column \"cumulative_percent_correct\" - a feature for each student on their percentage correct so far (no data leakage from the future!)"
   ]
  },
  {
   "cell_type": "code",
   "execution_count": 12,
   "id": "51510a3a-fdb0-4d2f-b363-c36e7a05bb38",
   "metadata": {},
   "outputs": [],
   "source": [
    "df = df.sort_values(by='date')"
   ]
  },
  {
   "cell_type": "code",
   "execution_count": 13,
   "id": "4229f082-e3c9-4f21-a15b-4ed8779a3c8e",
   "metadata": {},
   "outputs": [],
   "source": [
    "# Create a feature that represents the student's overall cumulative accuracy per skill\n",
    "cumulative_percent_correct = df.groupby(['user_id','skill_id'],sort=False)['correct'].expanding(1).mean().reset_index().drop(columns=['user_id','skill_id']).rename(columns={'correct':'cumulative_percent_correct'})"
   ]
  },
  {
   "cell_type": "code",
   "execution_count": 14,
   "id": "4d1cb66d-ff18-40af-b91d-a7b4866cae21",
   "metadata": {},
   "outputs": [],
   "source": [
    "df = df.merge(cumulative_percent_correct, left_index=True, right_on='level_2', how='left')"
   ]
  },
  {
   "cell_type": "code",
   "execution_count": 15,
   "id": "1a6dca5f-3c6c-4ed0-ba8b-672b2111464c",
   "metadata": {},
   "outputs": [],
   "source": [
    "# Create a feature that represents the student's accuracy over the last 30 days per skill\n",
    "# window_size = 30\n",
    "# df_roll = df.groupby(['user_id','skill_id'])['correct'].rolling(window_size).mean()\n",
    "\n",
    "# Other ideas:\n",
    "# Num Questions answered so far\n",
    "# percent correct on skill type by all players so far"
   ]
  },
  {
   "cell_type": "code",
   "execution_count": 16,
   "id": "15146dac-a396-4574-b437-2078a94766cc",
   "metadata": {},
   "outputs": [
    {
     "data": {
      "text/html": [
       "<div>\n",
       "<style scoped>\n",
       "    .dataframe tbody tr th:only-of-type {\n",
       "        vertical-align: middle;\n",
       "    }\n",
       "\n",
       "    .dataframe tbody tr th {\n",
       "        vertical-align: top;\n",
       "    }\n",
       "\n",
       "    .dataframe thead th {\n",
       "        text-align: right;\n",
       "    }\n",
       "</style>\n",
       "<table border=\"1\" class=\"dataframe\">\n",
       "  <thead>\n",
       "    <tr style=\"text-align: right;\">\n",
       "      <th></th>\n",
       "      <th>event_id</th>\n",
       "      <th>user_id</th>\n",
       "      <th>mode_event</th>\n",
       "      <th>game_name</th>\n",
       "      <th>number_range</th>\n",
       "      <th>skill_id</th>\n",
       "      <th>type_subtask</th>\n",
       "      <th>date</th>\n",
       "      <th>Year</th>\n",
       "      <th>Week</th>\n",
       "      <th>Day</th>\n",
       "      <th>week_sequential</th>\n",
       "      <th>correct</th>\n",
       "      <th>level_2</th>\n",
       "      <th>cumulative_percent_correct</th>\n",
       "    </tr>\n",
       "  </thead>\n",
       "  <tbody>\n",
       "    <tr>\n",
       "      <th>0</th>\n",
       "      <td>118</td>\n",
       "      <td>7</td>\n",
       "      <td>NORMAL</td>\n",
       "      <td>Subitizing</td>\n",
       "      <td>R10</td>\n",
       "      <td>1.0</td>\n",
       "      <td>ConciseTimeoutDescription</td>\n",
       "      <td>2015-03-19 18:48:57.303000+00:00</td>\n",
       "      <td>2015</td>\n",
       "      <td>12</td>\n",
       "      <td>4</td>\n",
       "      <td>0</td>\n",
       "      <td>True</td>\n",
       "      <td>135</td>\n",
       "      <td>1.000000</td>\n",
       "    </tr>\n",
       "    <tr>\n",
       "      <th>1</th>\n",
       "      <td>118</td>\n",
       "      <td>7</td>\n",
       "      <td>NORMAL</td>\n",
       "      <td>Subitizing</td>\n",
       "      <td>R10</td>\n",
       "      <td>1.0</td>\n",
       "      <td>ConciseSubitizingTaskDescription</td>\n",
       "      <td>2015-03-19 18:48:57.303000+00:00</td>\n",
       "      <td>2015</td>\n",
       "      <td>12</td>\n",
       "      <td>4</td>\n",
       "      <td>0</td>\n",
       "      <td>True</td>\n",
       "      <td>134</td>\n",
       "      <td>1.000000</td>\n",
       "    </tr>\n",
       "    <tr>\n",
       "      <th>2</th>\n",
       "      <td>119</td>\n",
       "      <td>7</td>\n",
       "      <td>NORMAL</td>\n",
       "      <td>Conversion</td>\n",
       "      <td>R10</td>\n",
       "      <td>3.0</td>\n",
       "      <td>ConciseConversionTaskDescription</td>\n",
       "      <td>2015-03-20 18:07:17.288000+00:00</td>\n",
       "      <td>2015</td>\n",
       "      <td>12</td>\n",
       "      <td>5</td>\n",
       "      <td>0</td>\n",
       "      <td>True</td>\n",
       "      <td>136</td>\n",
       "      <td>1.000000</td>\n",
       "    </tr>\n",
       "    <tr>\n",
       "      <th>3</th>\n",
       "      <td>120</td>\n",
       "      <td>7</td>\n",
       "      <td>NORMAL</td>\n",
       "      <td>Landing</td>\n",
       "      <td>R10</td>\n",
       "      <td>19.0</td>\n",
       "      <td>ConciseLandingTaskDescription</td>\n",
       "      <td>2015-03-23 15:18:26.515000+00:00</td>\n",
       "      <td>2015</td>\n",
       "      <td>13</td>\n",
       "      <td>1</td>\n",
       "      <td>1</td>\n",
       "      <td>True</td>\n",
       "      <td>137</td>\n",
       "      <td>1.000000</td>\n",
       "    </tr>\n",
       "    <tr>\n",
       "      <th>4</th>\n",
       "      <td>121</td>\n",
       "      <td>7</td>\n",
       "      <td>END_OF_NR</td>\n",
       "      <td>Conversion</td>\n",
       "      <td>R10</td>\n",
       "      <td>7.0</td>\n",
       "      <td>ConciseConversionTaskDescription</td>\n",
       "      <td>2015-04-02 14:03:06.836000+00:00</td>\n",
       "      <td>2015</td>\n",
       "      <td>14</td>\n",
       "      <td>4</td>\n",
       "      <td>2</td>\n",
       "      <td>True</td>\n",
       "      <td>138</td>\n",
       "      <td>1.000000</td>\n",
       "    </tr>\n",
       "    <tr>\n",
       "      <th>...</th>\n",
       "      <td>...</td>\n",
       "      <td>...</td>\n",
       "      <td>...</td>\n",
       "      <td>...</td>\n",
       "      <td>...</td>\n",
       "      <td>...</td>\n",
       "      <td>...</td>\n",
       "      <td>...</td>\n",
       "      <td>...</td>\n",
       "      <td>...</td>\n",
       "      <td>...</td>\n",
       "      <td>...</td>\n",
       "      <td>...</td>\n",
       "      <td>...</td>\n",
       "      <td>...</td>\n",
       "    </tr>\n",
       "    <tr>\n",
       "      <th>53429</th>\n",
       "      <td>24597</td>\n",
       "      <td>644</td>\n",
       "      <td>END_OF_NR</td>\n",
       "      <td>Secret Number</td>\n",
       "      <td>R100</td>\n",
       "      <td>107.0</td>\n",
       "      <td>ConciseNumberInIntervalTaskDescription</td>\n",
       "      <td>2023-02-11 13:04:38.328000+00:00</td>\n",
       "      <td>2023</td>\n",
       "      <td>6</td>\n",
       "      <td>6</td>\n",
       "      <td>20</td>\n",
       "      <td>True</td>\n",
       "      <td>36904</td>\n",
       "      <td>0.777778</td>\n",
       "    </tr>\n",
       "    <tr>\n",
       "      <th>53430</th>\n",
       "      <td>24597</td>\n",
       "      <td>644</td>\n",
       "      <td>END_OF_NR</td>\n",
       "      <td>Secret Number</td>\n",
       "      <td>R100</td>\n",
       "      <td>107.0</td>\n",
       "      <td>ConciseNumberInIntervalTaskDescription</td>\n",
       "      <td>2023-02-11 13:04:38.328000+00:00</td>\n",
       "      <td>2023</td>\n",
       "      <td>6</td>\n",
       "      <td>6</td>\n",
       "      <td>20</td>\n",
       "      <td>True</td>\n",
       "      <td>36903</td>\n",
       "      <td>0.789474</td>\n",
       "    </tr>\n",
       "    <tr>\n",
       "      <th>53431</th>\n",
       "      <td>24597</td>\n",
       "      <td>644</td>\n",
       "      <td>END_OF_NR</td>\n",
       "      <td>Secret Number</td>\n",
       "      <td>R100</td>\n",
       "      <td>107.0</td>\n",
       "      <td>ConciseNumberInIntervalTaskDescription</td>\n",
       "      <td>2023-02-11 13:04:38.328000+00:00</td>\n",
       "      <td>2023</td>\n",
       "      <td>6</td>\n",
       "      <td>6</td>\n",
       "      <td>20</td>\n",
       "      <td>True</td>\n",
       "      <td>36907</td>\n",
       "      <td>0.800000</td>\n",
       "    </tr>\n",
       "    <tr>\n",
       "      <th>54399</th>\n",
       "      <td>12966</td>\n",
       "      <td>318</td>\n",
       "      <td>END_OF_NR</td>\n",
       "      <td>Distance</td>\n",
       "      <td>R100</td>\n",
       "      <td>105.0</td>\n",
       "      <td>ConciseOrdinalityTaskDescription</td>\n",
       "      <td>2023-02-12 09:08:57.789000+00:00</td>\n",
       "      <td>2023</td>\n",
       "      <td>6</td>\n",
       "      <td>7</td>\n",
       "      <td>14</td>\n",
       "      <td>False</td>\n",
       "      <td>19918</td>\n",
       "      <td>0.000000</td>\n",
       "    </tr>\n",
       "    <tr>\n",
       "      <th>55038</th>\n",
       "      <td>25038</td>\n",
       "      <td>664</td>\n",
       "      <td>NORMAL</td>\n",
       "      <td>Landing</td>\n",
       "      <td>R10</td>\n",
       "      <td>18.0</td>\n",
       "      <td>ConciseLandingTaskDescription</td>\n",
       "      <td>2023-02-12 18:42:24.512000+00:00</td>\n",
       "      <td>2023</td>\n",
       "      <td>6</td>\n",
       "      <td>7</td>\n",
       "      <td>0</td>\n",
       "      <td>True</td>\n",
       "      <td>37488</td>\n",
       "      <td>1.000000</td>\n",
       "    </tr>\n",
       "  </tbody>\n",
       "</table>\n",
       "<p>55047 rows × 15 columns</p>\n",
       "</div>"
      ],
      "text/plain": [
       "       event_id  user_id mode_event      game_name number_range  skill_id  \\\n",
       "0           118        7     NORMAL     Subitizing          R10       1.0   \n",
       "1           118        7     NORMAL     Subitizing          R10       1.0   \n",
       "2           119        7     NORMAL     Conversion          R10       3.0   \n",
       "3           120        7     NORMAL        Landing          R10      19.0   \n",
       "4           121        7  END_OF_NR     Conversion          R10       7.0   \n",
       "...         ...      ...        ...            ...          ...       ...   \n",
       "53429     24597      644  END_OF_NR  Secret Number         R100     107.0   \n",
       "53430     24597      644  END_OF_NR  Secret Number         R100     107.0   \n",
       "53431     24597      644  END_OF_NR  Secret Number         R100     107.0   \n",
       "54399     12966      318  END_OF_NR       Distance         R100     105.0   \n",
       "55038     25038      664     NORMAL        Landing          R10      18.0   \n",
       "\n",
       "                                 type_subtask  \\\n",
       "0                   ConciseTimeoutDescription   \n",
       "1            ConciseSubitizingTaskDescription   \n",
       "2            ConciseConversionTaskDescription   \n",
       "3               ConciseLandingTaskDescription   \n",
       "4            ConciseConversionTaskDescription   \n",
       "...                                       ...   \n",
       "53429  ConciseNumberInIntervalTaskDescription   \n",
       "53430  ConciseNumberInIntervalTaskDescription   \n",
       "53431  ConciseNumberInIntervalTaskDescription   \n",
       "54399        ConciseOrdinalityTaskDescription   \n",
       "55038           ConciseLandingTaskDescription   \n",
       "\n",
       "                                  date  Year  Week  Day  week_sequential  \\\n",
       "0     2015-03-19 18:48:57.303000+00:00  2015    12    4                0   \n",
       "1     2015-03-19 18:48:57.303000+00:00  2015    12    4                0   \n",
       "2     2015-03-20 18:07:17.288000+00:00  2015    12    5                0   \n",
       "3     2015-03-23 15:18:26.515000+00:00  2015    13    1                1   \n",
       "4     2015-04-02 14:03:06.836000+00:00  2015    14    4                2   \n",
       "...                                ...   ...   ...  ...              ...   \n",
       "53429 2023-02-11 13:04:38.328000+00:00  2023     6    6               20   \n",
       "53430 2023-02-11 13:04:38.328000+00:00  2023     6    6               20   \n",
       "53431 2023-02-11 13:04:38.328000+00:00  2023     6    6               20   \n",
       "54399 2023-02-12 09:08:57.789000+00:00  2023     6    7               14   \n",
       "55038 2023-02-12 18:42:24.512000+00:00  2023     6    7                0   \n",
       "\n",
       "      correct  level_2  cumulative_percent_correct  \n",
       "0        True      135                    1.000000  \n",
       "1        True      134                    1.000000  \n",
       "2        True      136                    1.000000  \n",
       "3        True      137                    1.000000  \n",
       "4        True      138                    1.000000  \n",
       "...       ...      ...                         ...  \n",
       "53429    True    36904                    0.777778  \n",
       "53430    True    36903                    0.789474  \n",
       "53431    True    36907                    0.800000  \n",
       "54399   False    19918                    0.000000  \n",
       "55038    True    37488                    1.000000  \n",
       "\n",
       "[55047 rows x 15 columns]"
      ]
     },
     "execution_count": 16,
     "metadata": {},
     "output_type": "execute_result"
    }
   ],
   "source": [
    "df"
   ]
  },
  {
   "cell_type": "code",
   "execution_count": 17,
   "id": "6b5cf49c-d30d-442a-8806-91411019078c",
   "metadata": {},
   "outputs": [
    {
     "data": {
      "text/plain": [
       "event_id                      0\n",
       "user_id                       0\n",
       "mode_event                    0\n",
       "game_name                     0\n",
       "number_range                  0\n",
       "skill_id                      0\n",
       "type_subtask                  0\n",
       "date                          0\n",
       "Year                          0\n",
       "Week                          0\n",
       "Day                           0\n",
       "week_sequential               0\n",
       "correct                       0\n",
       "level_2                       0\n",
       "cumulative_percent_correct    0\n",
       "dtype: int64"
      ]
     },
     "execution_count": 17,
     "metadata": {},
     "output_type": "execute_result"
    }
   ],
   "source": [
    "# Check there are no nans\n",
    "df.isna().sum()"
   ]
  },
  {
   "cell_type": "code",
   "execution_count": 18,
   "id": "319c7bd3-144c-485a-8fa5-8129f27218f6",
   "metadata": {},
   "outputs": [],
   "source": [
    "# LGBM only accepts int, bool and float\n",
    "for col in cat_features:\n",
    "    # Convert categories into ints\n",
    "    df[col] = df[col].astype('category')\n",
    "df['week_sequential'] = df['week_sequential'].astype('int32')\n",
    "df[target_feature] = df[target_feature].astype('bool')"
   ]
  },
  {
   "attachments": {},
   "cell_type": "markdown",
   "id": "3bde4645-9ea2-45de-9941-e2d6ba91d2f8",
   "metadata": {},
   "source": [
    "## Dataset creation\n"
   ]
  },
  {
   "cell_type": "code",
   "execution_count": 20,
   "id": "f56d7dd9-be05-4fe3-827b-e46c157ab222",
   "metadata": {},
   "outputs": [],
   "source": [
    "df = df.sort_values(['date'], ascending=True).reset_index(drop = True)\n"
   ]
  },
  {
   "cell_type": "code",
   "execution_count": 21,
   "id": "2caf621a-abdb-43df-90dc-9ff087859eaa",
   "metadata": {},
   "outputs": [
    {
     "name": "stdout",
     "output_type": "stream",
     "text": [
      "number skills 210\n"
     ]
    }
   ],
   "source": [
    "skills = df[\"skill_id\"].unique()\n",
    "n_skill = len(skills)\n",
    "print(\"number skills\", len(skills))"
   ]
  },
  {
   "cell_type": "code",
   "execution_count": 39,
   "id": "2f64d177-d9e2-4af2-8a0b-e82d40a4e321",
   "metadata": {},
   "outputs": [
    {
     "data": {
      "text/plain": [
       "250.0"
      ]
     },
     "execution_count": 39,
     "metadata": {},
     "output_type": "execute_result"
    }
   ],
   "source": [
    "max(skills)"
   ]
  },
  {
   "cell_type": "code",
   "execution_count": 22,
   "id": "d32caed1-ae7b-4d71-98ee-0651a172cf74",
   "metadata": {},
   "outputs": [],
   "source": [
    "group = df[['user_id', 'skill_id', 'correct']].groupby('user_id').apply(lambda r: (\n",
    "            r['skill_id'].values,\n",
    "            r['correct'].values))"
   ]
  },
  {
   "cell_type": "code",
   "execution_count": 27,
   "id": "75294617-84ec-4e38-9d5a-47fba4416fe8",
   "metadata": {},
   "outputs": [],
   "source": [
    "class SAKTDataset(Dataset):\n",
    "    def __init__(self, group, n_skill, max_seq=100):\n",
    "        super(SAKTDataset, self).__init__()\n",
    "        self.max_seq = max_seq\n",
    "        self.n_skill = n_skill\n",
    "        self.samples = group\n",
    "        \n",
    "        self.user_ids = []\n",
    "        for user_id in group.index:\n",
    "            q, qa = group[user_id]\n",
    "            if len(q) < 10:\n",
    "                continue\n",
    "            self.user_ids.append(user_id)\n",
    "\n",
    "    def __len__(self):\n",
    "        return len(self.user_ids)\n",
    "\n",
    "    def __getitem__(self, index):\n",
    "        user_id = self.user_ids[index]\n",
    "        q_, qa_ = self.samples[user_id]\n",
    "        seq_len = len(q_)\n",
    "\n",
    "        q = np.zeros(self.max_seq, dtype=int)\n",
    "        qa = np.zeros(self.max_seq, dtype=int)\n",
    "        if seq_len >= self.max_seq:\n",
    "            q[:] = q_[-self.max_seq:]\n",
    "            qa[:] = qa_[-self.max_seq:]\n",
    "        else:\n",
    "            q[-seq_len:] = q_\n",
    "            qa[-seq_len:] = qa_\n",
    "        \n",
    "        target_id = q[1:]\n",
    "        label = qa[1:]\n",
    "\n",
    "        x = np.zeros(self.max_seq-1, dtype=int)\n",
    "        x = q[:-1].copy()\n",
    "        x += (qa[:-1] == 1) * self.n_skill\n",
    "\n",
    "        return x, target_id, label"
   ]
  },
  {
   "cell_type": "code",
   "execution_count": 28,
   "id": "cb7d0e4b-eb2c-47f8-b5d3-be7bcbff8871",
   "metadata": {},
   "outputs": [],
   "source": [
    "train, val = train_test_split(group, test_size=0.2)\n",
    "\n",
    "train_dataset = SAKTDataset(train, n_skill)\n",
    "train_dataloader = DataLoader(train_dataset, batch_size=2048, shuffle=True, num_workers=8)\n",
    "del train\n",
    "\n",
    "val_dataset = SAKTDataset(val, n_skill)\n",
    "val_dataloader = DataLoader(val_dataset, batch_size=2048, shuffle=True, num_workers=8)\n",
    "del val"
   ]
  },
  {
   "attachments": {},
   "cell_type": "markdown",
   "id": "bf5bad3d-5d64-4d89-ab6b-934e9fd9698e",
   "metadata": {},
   "source": [
    "## Build Model"
   ]
  },
  {
   "cell_type": "code",
   "execution_count": 29,
   "id": "68e24499-5c2a-47d8-9e03-cf55e50c7ac9",
   "metadata": {},
   "outputs": [],
   "source": [
    "class FFN(nn.Module):\n",
    "    def __init__(self, state_size=200):\n",
    "        super(FFN, self).__init__()\n",
    "        self.state_size = state_size\n",
    "\n",
    "        self.lr1 = nn.Linear(state_size, state_size)\n",
    "        self.relu = nn.ReLU()\n",
    "        self.lr2 = nn.Linear(state_size, state_size)\n",
    "        self.dropout = nn.Dropout(0.2)\n",
    "    \n",
    "    def forward(self, x):\n",
    "        x = self.lr1(x)\n",
    "        x = self.relu(x)\n",
    "        x = self.lr2(x)\n",
    "        return self.dropout(x)\n",
    "\n",
    "def future_mask(seq_length):\n",
    "    future_mask = np.triu(np.ones((seq_length, seq_length)), k=1).astype('bool')\n",
    "    return torch.from_numpy(future_mask)\n",
    "\n",
    "\n",
    "class SAKTModel(nn.Module):\n",
    "    def __init__(self, n_skill, max_seq=100, embed_dim=128):\n",
    "        super(SAKTModel, self).__init__()\n",
    "        self.n_skill = n_skill\n",
    "        self.embed_dim = embed_dim\n",
    "\n",
    "        self.embedding = nn.Embedding(2*n_skill+1, embed_dim)\n",
    "        self.pos_embedding = nn.Embedding(max_seq-1, embed_dim)\n",
    "        self.e_embedding = nn.Embedding(n_skill+1, embed_dim)\n",
    "\n",
    "        self.multi_att = nn.MultiheadAttention(embed_dim=embed_dim, num_heads=8, dropout=0.2)\n",
    "\n",
    "        self.dropout = nn.Dropout(0.2)\n",
    "        self.layer_normal = nn.LayerNorm(embed_dim) \n",
    "\n",
    "        self.ffn = FFN(embed_dim)\n",
    "        self.pred = nn.Linear(embed_dim, 1)\n",
    "    \n",
    "    def forward(self, x, question_ids):\n",
    "        device = x.device        \n",
    "        x = self.embedding(x)\n",
    "        pos_id = torch.arange(x.size(1)).unsqueeze(0).to(device)\n",
    "\n",
    "        pos_x = self.pos_embedding(pos_id)\n",
    "        x = x + pos_x\n",
    "\n",
    "        e = self.e_embedding(question_ids)\n",
    "\n",
    "        x = x.permute(1, 0, 2) # x: [bs, s_len, embed] => [s_len, bs, embed]\n",
    "        e = e.permute(1, 0, 2)\n",
    "        att_mask = future_mask(x.size(0)).to(device)\n",
    "        att_output, att_weight = self.multi_att(e, x, x, attn_mask=att_mask)\n",
    "        att_output = self.layer_normal(att_output + e)\n",
    "        att_output = att_output.permute(1, 0, 2) # att_output: [s_len, bs, embed] => [bs, s_len, embed]\n",
    "\n",
    "        x = self.ffn(att_output)\n",
    "        x = self.layer_normal(x + att_output)\n",
    "        x = self.pred(x)\n",
    "\n",
    "        return x.squeeze(-1), att_weight"
   ]
  },
  {
   "cell_type": "code",
   "execution_count": 41,
   "id": "698d3470-14b6-48e6-b0c0-3d9eaa993f4e",
   "metadata": {},
   "outputs": [
    {
     "data": {
      "text/plain": [
       "BCEWithLogitsLoss()"
      ]
     },
     "execution_count": 41,
     "metadata": {},
     "output_type": "execute_result"
    }
   ],
   "source": [
    "device = torch.device(\"cuda\" if torch.cuda.is_available() else \"cpu\")\n",
    "# device = torch.device(\"cpu\")\n",
    "\n",
    "\n",
    "# model = SAKTModel(n_skill, embed_dim=128)\n",
    "# Must use max skill not len skills because there are missing skills and embedding layer acts as a lookup table\n",
    "# TODO map skill_ids to numbers from 0...n with none missing\n",
    "model = SAKTModel(int(max(skills)), embed_dim=128)\n",
    "# optimizer = torch.optim.SGD(model.parameters(), lr=1e-3, momentum=0.99, weight_decay=0.005)\n",
    "optimizer = torch.optim.Adam(model.parameters(), lr=1e-3)\n",
    "criterion = nn.BCEWithLogitsLoss()\n",
    "\n",
    "model.to(device)\n",
    "criterion.to(device)"
   ]
  },
  {
   "attachments": {},
   "cell_type": "markdown",
   "id": "eba27340-fc49-4019-9b20-c268b980bde2",
   "metadata": {},
   "source": [
    "## Train"
   ]
  },
  {
   "cell_type": "code",
   "execution_count": 35,
   "id": "455cdeb5-6684-4382-b164-5a9c039da151",
   "metadata": {},
   "outputs": [],
   "source": [
    "def train_epoch(model, train_iterator, optim, criterion, device=\"cpu\"):\n",
    "    model.train()\n",
    "\n",
    "    train_loss = []\n",
    "    num_corrects = 0\n",
    "    num_total = 0\n",
    "    labels = []\n",
    "    outs = []\n",
    "\n",
    "    tbar = tqdm(train_iterator)\n",
    "    for item in tbar:\n",
    "        x = item[0].to(device).long()\n",
    "        target_id = item[1].to(device).long()\n",
    "        label = item[2].to(device).float()\n",
    "        target_mask = (target_id != 0)\n",
    "\n",
    "        optim.zero_grad()\n",
    "        output, atten_weight = model(x, target_id)\n",
    "        \n",
    "        output = torch.masked_select(output, target_mask)\n",
    "        label = torch.masked_select(label, target_mask)\n",
    "        \n",
    "        loss = criterion(output, label)\n",
    "        loss.backward()\n",
    "        optim.step()\n",
    "        train_loss.append(loss.item())\n",
    "        pred = (torch.sigmoid(output) >= 0.5).long()\n",
    "        \n",
    "        num_corrects += (pred == label).sum().item()\n",
    "        num_total += len(label)\n",
    "\n",
    "        labels.extend(label.view(-1).data.cpu().numpy())\n",
    "        outs.extend(output.view(-1).data.cpu().numpy())\n",
    "\n",
    "        tbar.set_description('loss - {:.4f}'.format(loss))\n",
    "\n",
    "    acc = num_corrects / num_total\n",
    "    auc = roc_auc_score(labels, outs)\n",
    "    loss = np.average(train_loss)\n",
    "\n",
    "    return loss, acc, auc"
   ]
  },
  {
   "cell_type": "code",
   "execution_count": 32,
   "id": "2e8cffe6-cbce-4712-99ff-60197213c445",
   "metadata": {},
   "outputs": [],
   "source": [
    "def val_epoch(model, val_iterator, criterion, device=\"cpu\"):\n",
    "    model.eval()\n",
    "\n",
    "    train_loss = []\n",
    "    num_corrects = 0\n",
    "    num_total = 0\n",
    "    labels = []\n",
    "    outs = []\n",
    "\n",
    "    tbar = tqdm(val_iterator)\n",
    "    for item in tbar:\n",
    "        x = item[0].to(device).long()\n",
    "        target_id = item[1].to(device).long()\n",
    "        label = item[2].to(device).float()\n",
    "        target_mask = (target_id != 0)\n",
    "\n",
    "        with torch.no_grad():\n",
    "            output, atten_weight = model(x, target_id)\n",
    "        \n",
    "        output = torch.masked_select(output, target_mask)\n",
    "        label = torch.masked_select(label, target_mask)\n",
    "\n",
    "        loss = criterion(output, label)\n",
    "        train_loss.append(loss.item())\n",
    "\n",
    "        pred = (torch.sigmoid(output) >= 0.5).long()\n",
    "        \n",
    "        num_corrects += (pred == label).sum().item()\n",
    "        num_total += len(label)\n",
    "\n",
    "        labels.extend(label.view(-1).data.cpu().numpy())\n",
    "        outs.extend(output.view(-1).data.cpu().numpy())\n",
    "\n",
    "        tbar.set_description('loss - {:.4f}'.format(loss))\n",
    "\n",
    "    acc = num_corrects / num_total\n",
    "    auc = roc_auc_score(labels, outs)\n",
    "    loss = np.average(train_loss)\n",
    "\n",
    "    return loss, acc, auc"
   ]
  },
  {
   "cell_type": "code",
   "execution_count": 42,
   "id": "9ed431e9-74b0-46a2-87b3-1e745216fe80",
   "metadata": {},
   "outputs": [
    {
     "name": "stderr",
     "output_type": "stream",
     "text": [
      "loss - 0.7361: 100%|██████████| 1/1 [00:26<00:00, 26.17s/it]\n"
     ]
    },
    {
     "name": "stdout",
     "output_type": "stream",
     "text": [
      "epoch - 0 train_loss - 0.74 acc - 0.553 auc - 0.441\n"
     ]
    },
    {
     "name": "stderr",
     "output_type": "stream",
     "text": [
      "loss - 0.6010: 100%|██████████| 1/1 [00:05<00:00,  5.45s/it]\n"
     ]
    },
    {
     "name": "stdout",
     "output_type": "stream",
     "text": [
      "epoch - 0 val_loss - 0.60 acc - 0.689 auc - 0.457\n"
     ]
    },
    {
     "name": "stderr",
     "output_type": "stream",
     "text": [
      "loss - 0.6168: 100%|██████████| 1/1 [00:19<00:00, 19.80s/it]\n"
     ]
    },
    {
     "name": "stdout",
     "output_type": "stream",
     "text": [
      "epoch - 1 train_loss - 0.62 acc - 0.675 auc - 0.458\n"
     ]
    },
    {
     "name": "stderr",
     "output_type": "stream",
     "text": [
      "loss - 0.5298: 100%|██████████| 1/1 [00:05<00:00,  5.70s/it]\n"
     ]
    },
    {
     "name": "stdout",
     "output_type": "stream",
     "text": [
      "epoch - 1 val_loss - 0.53 acc - 0.765 auc - 0.483\n"
     ]
    },
    {
     "name": "stderr",
     "output_type": "stream",
     "text": [
      "loss - 0.5495: 100%|██████████| 1/1 [00:20<00:00, 20.04s/it]\n"
     ]
    },
    {
     "name": "stdout",
     "output_type": "stream",
     "text": [
      "epoch - 2 train_loss - 0.55 acc - 0.756 auc - 0.482\n"
     ]
    },
    {
     "name": "stderr",
     "output_type": "stream",
     "text": [
      "loss - 0.4926: 100%|██████████| 1/1 [00:05<00:00,  5.75s/it]\n"
     ]
    },
    {
     "name": "stdout",
     "output_type": "stream",
     "text": [
      "epoch - 2 val_loss - 0.49 acc - 0.819 auc - 0.526\n"
     ]
    },
    {
     "name": "stderr",
     "output_type": "stream",
     "text": [
      "loss - 0.5152: 100%|██████████| 1/1 [00:17<00:00, 17.50s/it]\n"
     ]
    },
    {
     "name": "stdout",
     "output_type": "stream",
     "text": [
      "epoch - 3 train_loss - 0.52 acc - 0.805 auc - 0.518\n"
     ]
    },
    {
     "name": "stderr",
     "output_type": "stream",
     "text": [
      "loss - 0.4732: 100%|██████████| 1/1 [00:08<00:00,  8.43s/it]\n"
     ]
    },
    {
     "name": "stdout",
     "output_type": "stream",
     "text": [
      "epoch - 3 val_loss - 0.47 acc - 0.822 auc - 0.580\n"
     ]
    },
    {
     "name": "stderr",
     "output_type": "stream",
     "text": [
      "loss - 0.4973: 100%|██████████| 1/1 [00:18<00:00, 18.00s/it]\n"
     ]
    },
    {
     "name": "stdout",
     "output_type": "stream",
     "text": [
      "epoch - 4 train_loss - 0.50 acc - 0.808 auc - 0.563\n"
     ]
    },
    {
     "name": "stderr",
     "output_type": "stream",
     "text": [
      "loss - 0.4602: 100%|██████████| 1/1 [00:04<00:00,  4.70s/it]\n"
     ]
    },
    {
     "name": "stdout",
     "output_type": "stream",
     "text": [
      "epoch - 4 val_loss - 0.46 acc - 0.824 auc - 0.617\n"
     ]
    },
    {
     "name": "stderr",
     "output_type": "stream",
     "text": [
      "loss - 0.4855: 100%|██████████| 1/1 [00:19<00:00, 19.47s/it]\n"
     ]
    },
    {
     "name": "stdout",
     "output_type": "stream",
     "text": [
      "epoch - 5 train_loss - 0.49 acc - 0.809 auc - 0.602\n"
     ]
    },
    {
     "name": "stderr",
     "output_type": "stream",
     "text": [
      "loss - 0.4483: 100%|██████████| 1/1 [00:06<00:00,  6.58s/it]\n"
     ]
    },
    {
     "name": "stdout",
     "output_type": "stream",
     "text": [
      "epoch - 5 val_loss - 0.45 acc - 0.824 auc - 0.659\n"
     ]
    },
    {
     "name": "stderr",
     "output_type": "stream",
     "text": [
      "loss - 0.4737: 100%|██████████| 1/1 [00:17<00:00, 17.83s/it]\n"
     ]
    },
    {
     "name": "stdout",
     "output_type": "stream",
     "text": [
      "epoch - 6 train_loss - 0.47 acc - 0.809 auc - 0.645\n"
     ]
    },
    {
     "name": "stderr",
     "output_type": "stream",
     "text": [
      "loss - 0.4368: 100%|██████████| 1/1 [00:05<00:00,  5.21s/it]\n"
     ]
    },
    {
     "name": "stdout",
     "output_type": "stream",
     "text": [
      "epoch - 6 val_loss - 0.44 acc - 0.824 auc - 0.693\n"
     ]
    },
    {
     "name": "stderr",
     "output_type": "stream",
     "text": [
      "loss - 0.4620: 100%|██████████| 1/1 [00:17<00:00, 17.07s/it]\n"
     ]
    },
    {
     "name": "stdout",
     "output_type": "stream",
     "text": [
      "epoch - 7 train_loss - 0.46 acc - 0.809 auc - 0.680\n"
     ]
    },
    {
     "name": "stderr",
     "output_type": "stream",
     "text": [
      "loss - 0.4281: 100%|██████████| 1/1 [00:04<00:00,  4.76s/it]\n"
     ]
    },
    {
     "name": "stdout",
     "output_type": "stream",
     "text": [
      "epoch - 7 val_loss - 0.43 acc - 0.824 auc - 0.707\n"
     ]
    },
    {
     "name": "stderr",
     "output_type": "stream",
     "text": [
      "loss - 0.4528: 100%|██████████| 1/1 [00:20<00:00, 20.05s/it]\n"
     ]
    },
    {
     "name": "stdout",
     "output_type": "stream",
     "text": [
      "epoch - 8 train_loss - 0.45 acc - 0.809 auc - 0.697\n"
     ]
    },
    {
     "name": "stderr",
     "output_type": "stream",
     "text": [
      "loss - 0.4246: 100%|██████████| 1/1 [00:05<00:00,  5.54s/it]\n"
     ]
    },
    {
     "name": "stdout",
     "output_type": "stream",
     "text": [
      "epoch - 8 val_loss - 0.42 acc - 0.824 auc - 0.712\n"
     ]
    },
    {
     "name": "stderr",
     "output_type": "stream",
     "text": [
      "loss - 0.4485: 100%|██████████| 1/1 [00:19<00:00, 19.23s/it]\n"
     ]
    },
    {
     "name": "stdout",
     "output_type": "stream",
     "text": [
      "epoch - 9 train_loss - 0.45 acc - 0.808 auc - 0.702\n"
     ]
    },
    {
     "name": "stderr",
     "output_type": "stream",
     "text": [
      "loss - 0.4252: 100%|██████████| 1/1 [00:04<00:00,  4.36s/it]\n"
     ]
    },
    {
     "name": "stdout",
     "output_type": "stream",
     "text": [
      "epoch - 9 val_loss - 0.43 acc - 0.818 auc - 0.715\n"
     ]
    },
    {
     "name": "stderr",
     "output_type": "stream",
     "text": [
      "loss - 0.4488: 100%|██████████| 1/1 [00:18<00:00, 18.95s/it]\n"
     ]
    },
    {
     "name": "stdout",
     "output_type": "stream",
     "text": [
      "epoch - 10 train_loss - 0.45 acc - 0.806 auc - 0.704\n"
     ]
    },
    {
     "name": "stderr",
     "output_type": "stream",
     "text": [
      "loss - 0.4247: 100%|██████████| 1/1 [00:08<00:00,  8.26s/it]\n"
     ]
    },
    {
     "name": "stdout",
     "output_type": "stream",
     "text": [
      "epoch - 10 val_loss - 0.42 acc - 0.820 auc - 0.720\n"
     ]
    },
    {
     "name": "stderr",
     "output_type": "stream",
     "text": [
      "loss - 0.4474: 100%|██████████| 1/1 [00:18<00:00, 18.06s/it]\n"
     ]
    },
    {
     "name": "stdout",
     "output_type": "stream",
     "text": [
      "epoch - 11 train_loss - 0.45 acc - 0.807 auc - 0.710\n"
     ]
    },
    {
     "name": "stderr",
     "output_type": "stream",
     "text": [
      "loss - 0.4203: 100%|██████████| 1/1 [00:04<00:00,  4.86s/it]\n"
     ]
    },
    {
     "name": "stdout",
     "output_type": "stream",
     "text": [
      "epoch - 11 val_loss - 0.42 acc - 0.821 auc - 0.729\n"
     ]
    },
    {
     "name": "stderr",
     "output_type": "stream",
     "text": [
      "loss - 0.4429: 100%|██████████| 1/1 [00:18<00:00, 18.59s/it]\n"
     ]
    },
    {
     "name": "stdout",
     "output_type": "stream",
     "text": [
      "epoch - 12 train_loss - 0.44 acc - 0.808 auc - 0.719\n"
     ]
    },
    {
     "name": "stderr",
     "output_type": "stream",
     "text": [
      "loss - 0.4135: 100%|██████████| 1/1 [00:04<00:00,  4.69s/it]\n"
     ]
    },
    {
     "name": "stdout",
     "output_type": "stream",
     "text": [
      "epoch - 12 val_loss - 0.41 acc - 0.822 auc - 0.739\n"
     ]
    },
    {
     "name": "stderr",
     "output_type": "stream",
     "text": [
      "loss - 0.4357: 100%|██████████| 1/1 [00:18<00:00, 18.10s/it]\n"
     ]
    },
    {
     "name": "stdout",
     "output_type": "stream",
     "text": [
      "epoch - 13 train_loss - 0.44 acc - 0.809 auc - 0.731\n"
     ]
    },
    {
     "name": "stderr",
     "output_type": "stream",
     "text": [
      "loss - 0.4071: 100%|██████████| 1/1 [00:04<00:00,  4.11s/it]\n"
     ]
    },
    {
     "name": "stdout",
     "output_type": "stream",
     "text": [
      "epoch - 13 val_loss - 0.41 acc - 0.822 auc - 0.750\n"
     ]
    },
    {
     "name": "stderr",
     "output_type": "stream",
     "text": [
      "loss - 0.4293: 100%|██████████| 1/1 [00:15<00:00, 15.31s/it]\n"
     ]
    },
    {
     "name": "stdout",
     "output_type": "stream",
     "text": [
      "epoch - 14 train_loss - 0.43 acc - 0.811 auc - 0.743\n"
     ]
    },
    {
     "name": "stderr",
     "output_type": "stream",
     "text": [
      "loss - 0.4026: 100%|██████████| 1/1 [00:05<00:00,  5.58s/it]\n"
     ]
    },
    {
     "name": "stdout",
     "output_type": "stream",
     "text": [
      "epoch - 14 val_loss - 0.40 acc - 0.825 auc - 0.759\n"
     ]
    },
    {
     "name": "stderr",
     "output_type": "stream",
     "text": [
      "loss - 0.4247: 100%|██████████| 1/1 [00:19<00:00, 19.37s/it]\n"
     ]
    },
    {
     "name": "stdout",
     "output_type": "stream",
     "text": [
      "epoch - 15 train_loss - 0.42 acc - 0.812 auc - 0.753\n"
     ]
    },
    {
     "name": "stderr",
     "output_type": "stream",
     "text": [
      "loss - 0.3999: 100%|██████████| 1/1 [00:04<00:00,  4.50s/it]\n"
     ]
    },
    {
     "name": "stdout",
     "output_type": "stream",
     "text": [
      "epoch - 15 val_loss - 0.40 acc - 0.824 auc - 0.766\n"
     ]
    },
    {
     "name": "stderr",
     "output_type": "stream",
     "text": [
      "loss - 0.4221: 100%|██████████| 1/1 [00:21<00:00, 21.83s/it]\n"
     ]
    },
    {
     "name": "stdout",
     "output_type": "stream",
     "text": [
      "epoch - 16 train_loss - 0.42 acc - 0.811 auc - 0.760\n"
     ]
    },
    {
     "name": "stderr",
     "output_type": "stream",
     "text": [
      "loss - 0.3981: 100%|██████████| 1/1 [00:05<00:00,  5.63s/it]\n"
     ]
    },
    {
     "name": "stdout",
     "output_type": "stream",
     "text": [
      "epoch - 16 val_loss - 0.40 acc - 0.825 auc - 0.770\n"
     ]
    },
    {
     "name": "stderr",
     "output_type": "stream",
     "text": [
      "loss - 0.4203: 100%|██████████| 1/1 [00:18<00:00, 18.52s/it]\n"
     ]
    },
    {
     "name": "stdout",
     "output_type": "stream",
     "text": [
      "epoch - 17 train_loss - 0.42 acc - 0.811 auc - 0.765\n"
     ]
    },
    {
     "name": "stderr",
     "output_type": "stream",
     "text": [
      "loss - 0.3966: 100%|██████████| 1/1 [00:05<00:00,  5.90s/it]\n"
     ]
    },
    {
     "name": "stdout",
     "output_type": "stream",
     "text": [
      "epoch - 17 val_loss - 0.40 acc - 0.825 auc - 0.773\n"
     ]
    },
    {
     "name": "stderr",
     "output_type": "stream",
     "text": [
      "loss - 0.4179: 100%|██████████| 1/1 [00:18<00:00, 18.18s/it]\n"
     ]
    },
    {
     "name": "stdout",
     "output_type": "stream",
     "text": [
      "epoch - 18 train_loss - 0.42 acc - 0.811 auc - 0.769\n"
     ]
    },
    {
     "name": "stderr",
     "output_type": "stream",
     "text": [
      "loss - 0.3949: 100%|██████████| 1/1 [00:06<00:00,  6.70s/it]\n"
     ]
    },
    {
     "name": "stdout",
     "output_type": "stream",
     "text": [
      "epoch - 18 val_loss - 0.39 acc - 0.827 auc - 0.774\n"
     ]
    },
    {
     "name": "stderr",
     "output_type": "stream",
     "text": [
      "loss - 0.4159: 100%|██████████| 1/1 [00:17<00:00, 17.27s/it]\n"
     ]
    },
    {
     "name": "stdout",
     "output_type": "stream",
     "text": [
      "epoch - 19 train_loss - 0.42 acc - 0.813 auc - 0.770\n"
     ]
    },
    {
     "name": "stderr",
     "output_type": "stream",
     "text": [
      "loss - 0.3934: 100%|██████████| 1/1 [00:06<00:00,  6.31s/it]\n"
     ]
    },
    {
     "name": "stdout",
     "output_type": "stream",
     "text": [
      "epoch - 19 val_loss - 0.39 acc - 0.827 auc - 0.776\n",
      "CPU times: user 5min 56s, sys: 6min 21s, total: 12min 18s\n",
      "Wall time: 8min 26s\n"
     ]
    }
   ],
   "source": [
    "%%time\n",
    "\n",
    "epochs = 20\n",
    "over_fit = 0\n",
    "last_auc = 0\n",
    "\n",
    "for epoch in range(epochs):\n",
    "    train_loss, train_acc, train_auc = train_epoch(model, train_dataloader, optimizer, criterion, device)\n",
    "    print(\"epoch - {} train_loss - {:.2f} acc - {:.3f} auc - {:.3f}\".format(epoch, train_loss, train_acc, train_auc))\n",
    "    \n",
    "    val_loss, avl_acc, val_auc = val_epoch(model, val_dataloader, criterion, device)\n",
    "    print(\"epoch - {} val_loss - {:.2f} acc - {:.3f} auc - {:.3f}\".format(epoch, val_loss, avl_acc, val_auc))\n",
    "    \n",
    "    if val_auc > last_auc:\n",
    "        last_auc = val_auc\n",
    "        over_fit = 0\n",
    "    else:\n",
    "        over_fit += 1\n",
    "        \n",
    "    if over_fit >= 2:\n",
    "        print(\"early stop epoch \", epoch)\n",
    "        break"
   ]
  },
  {
   "attachments": {},
   "cell_type": "markdown",
   "id": "99cce939-fe7b-48ed-8b8a-e63b799e9f4c",
   "metadata": {},
   "source": [
    "## Evaluate Model\n"
   ]
  },
  {
   "cell_type": "code",
   "execution_count": null,
   "id": "ce56a499-bc51-45f3-b170-872b10c469e1",
   "metadata": {},
   "outputs": [],
   "source": [
    "model.eval()\n"
   ]
  },
  {
   "cell_type": "code",
   "execution_count": 80,
   "id": "5d8c52df-29c8-47df-b340-18a1e2befd8e",
   "metadata": {},
   "outputs": [
    {
     "name": "stderr",
     "output_type": "stream",
     "text": [
      "100%|██████████| 1/1 [00:19<00:00, 19.65s/it]\n"
     ]
    }
   ],
   "source": [
    "outs = []\n",
    "val_loss = []\n",
    "labels = []\n",
    "num_corrects = 0\n",
    "num_total = 0\n",
    "\n",
    "for item in tqdm(val_dataloader):\n",
    "    x = item[0].to(device).long()\n",
    "    target_id = item[1].to(device).long()\n",
    "    label = item[2].to(device).float()\n",
    "    target_mask = (target_id != 0)\n",
    "\n",
    "    with torch.no_grad():\n",
    "        output, att_weight = model(x, target_id)\n",
    "\n",
    "    output = torch.masked_select(output, target_mask)\n",
    "    label = torch.masked_select(label, target_mask)\n",
    "    \n",
    "    loss = criterion(output, label)\n",
    "    val_loss.append(loss.item())\n",
    "    \n",
    "    pred = (torch.sigmoid(output) >= 0.5).long()\n",
    "        \n",
    "    num_corrects += (pred == label).sum().item()\n",
    "    num_total += len(label)\n",
    "    labels.extend(label.squeeze(-1).data.cpu().numpy())\n",
    "    outs.extend(output.view(-1).data.cpu().numpy())\n",
    "\n",
    "# test_df['answered_correctly'] =  outs\n"
   ]
  },
  {
   "cell_type": "code",
   "execution_count": 81,
   "id": "e0d5d566-c56c-4e3b-a867-addc66fb9c30",
   "metadata": {},
   "outputs": [],
   "source": [
    "acc = num_corrects / num_total\n",
    "auc = roc_auc_score(labels, outs)\n",
    "loss = np.average(val_loss)"
   ]
  },
  {
   "cell_type": "code",
   "execution_count": 86,
   "id": "b9950fab-3dd4-44d7-90f7-456f26011e48",
   "metadata": {},
   "outputs": [
    {
     "name": "stdout",
     "output_type": "stream",
     "text": [
      "val_loss - 0.39 acc - 0.827 auc - 0.776\n"
     ]
    }
   ],
   "source": [
    "print(\"val_loss - {:.2f} acc - {:.3f} auc - {:.3f}\".format(loss, acc, auc))"
   ]
  },
  {
   "cell_type": "code",
   "execution_count": 88,
   "id": "f0c0137d-4348-484f-8bb2-8c6bec797610",
   "metadata": {},
   "outputs": [
    {
     "data": {
      "text/plain": [
       "torch.Size([139, 99, 99])"
      ]
     },
     "execution_count": 88,
     "metadata": {},
     "output_type": "execute_result"
    }
   ],
   "source": [
    "att_weight.shape"
   ]
  },
  {
   "cell_type": "code",
   "execution_count": 91,
   "id": "8c7eb8cb-2f34-4787-9802-9e9196a0b15c",
   "metadata": {},
   "outputs": [
    {
     "data": {
      "text/plain": [
       "torch.Size([99, 99])"
      ]
     },
     "execution_count": 91,
     "metadata": {},
     "output_type": "execute_result"
    }
   ],
   "source": [
    "torch.mean(att_weight, axis=0).shape"
   ]
  },
  {
   "cell_type": "code",
   "execution_count": 89,
   "id": "9c5f4af0-993d-4c2c-8544-91545635c1d8",
   "metadata": {},
   "outputs": [
    {
     "data": {
      "image/png": "[encoded data removed]",
      "text/plain": [
       "<Figure size 640x480 with 1 Axes>"
      ]
     },
     "metadata": {},
     "output_type": "display_data"
    }
   ],
   "source": [
    "plt.imshow(att_weight[0], cmap='hot', interpolation='nearest')\n",
    "plt.show()"
   ]
  },
  {
   "cell_type": "code",
   "execution_count": 92,
   "id": "5cca49fc-63b7-40f2-a944-a86d13a92f06",
   "metadata": {},
   "outputs": [
    {
     "data": {
      "image/png": "[encoded data removed]",
      "text/plain": [
       "<Figure size 640x480 with 1 Axes>"
      ]
     },
     "metadata": {},
     "output_type": "display_data"
    }
   ],
   "source": [
    "plt.imshow(torch.mean(att_weight, axis=0), cmap='hot', interpolation='nearest')\n",
    "plt.show()"
   ]
  },
  {
   "cell_type": "code",
   "execution_count": 110,
   "id": "9f63bcec-4a45-4a06-ad9e-cba91cd3a3e2",
   "metadata": {},
   "outputs": [
    {
     "data": {
      "image/png": "[encoded data removed]",
      "text/plain": [
       "<Figure size 640x480 with 1 Axes>"
      ]
     },
     "metadata": {},
     "output_type": "display_data"
    }
   ],
   "source": [
    "sns.histplot(att_weight[0].flatten())\n",
    "plt.xlim(0.001,0.2)\n",
    "plt.ylim(0,600)\n",
    "plt.show()"
   ]
  }
 ],
 "metadata": {
  "kernelspec": {
   "display_name": "mlbd-project",
   "language": "python",
   "name": "mlbd-project"
  },
  "language_info": {
   "codemirror_mode": {
    "name": "ipython",
    "version": 3
   },
   "file_extension": ".py",
   "mimetype": "text/x-python",
   "name": "python",
   "nbconvert_exporter": "python",
   "pygments_lexer": "ipython3",
   "version": "3.8.10"
  }
 },
 "nbformat": 4,
 "nbformat_minor": 5
}
