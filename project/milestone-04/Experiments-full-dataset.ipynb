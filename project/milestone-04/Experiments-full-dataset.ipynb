{
 "cells": [
  {
   "cell_type": "code",
   "execution_count": null,
   "id": "36dbea4d-0b59-44aa-bb96-f57b080813d0",
   "metadata": {
    "tags": []
   },
   "outputs": [],
   "source": [
    "# https://www.kaggle.com/code/deepakmys/riiid-eda-with-dask\n",
    "# https://docs.dask.org/en/stable/dataframe.html"
   ]
  },
  {
   "cell_type": "code",
   "execution_count": 1,
   "id": "a09dd2cc-e305-4220-8363-3ab221de7439",
   "metadata": {},
   "outputs": [],
   "source": [
    "# Import the tables of the data set as dataframes.\n",
    "import numpy as np\n",
    "import pandas as pd\n",
    "import matplotlib.pyplot as plt\n",
    "import seaborn as sns\n",
    "from pandas.api.types import is_numeric_dtype\n",
    "import dask.dataframe as dd\n",
    "import dask\n",
    "\n",
    "# from dask.distributed import Client\n",
    "\n",
    "# client = Client(\"tcp://127.0.0.1:46321\")\n",
    "# client\n",
    "\n",
    "DATA_DIR = '../mlbd-2023/data/'\n",
    "\n",
    "# users = pd.read_csv('{}/full_users.csv'.format(DATA_DIR), index_col=0)\n",
    "# events = pd.read_csv('{}/full_events.csv'.format(DATA_DIR), index_col=0)\n",
    "# subtasks = pd.read_csv('{}/full_subtasks.csv'.format(DATA_DIR), index_col=0)\n",
    "\n",
    "users = dd.read_csv('{}/full_users.csv'.format(DATA_DIR))\n",
    "events = dd.read_csv('{}/full_events.csv'.format(DATA_DIR))\n",
    "subtasks = dd.read_csv('{}/full_subtasks.csv'.format(DATA_DIR), dtype={'availableNumbers': 'object',\n",
    "       'interval': 'object',\n",
    "       'numberRepresentations': 'object',\n",
    "       'solutionRepresentation': 'object'})\n"
   ]
  },
  {
   "cell_type": "code",
   "execution_count": 3,
   "id": "7d6611b9-8e00-4003-8fd9-bde902125aa8",
   "metadata": {},
   "outputs": [
    {
     "name": "stdout",
     "output_type": "stream",
     "text": [
      "There are 64932 users in the data with 0 nans\n"
     ]
    }
   ],
   "source": [
    "print(f\"There are {len(users)} users in the data with {len(users[users['start'].isna() == 1])} nans\")\n"
   ]
  },
  {
   "cell_type": "code",
   "execution_count": 4,
   "id": "f4387c1f-3cb4-4c51-a93e-b3cb6f1ac93c",
   "metadata": {},
   "outputs": [
    {
     "name": "stdout",
     "output_type": "stream",
     "text": [
      "<class 'dask.dataframe.core.DataFrame'>\n",
      "RangeIndex: 64932 entries, 0 to 64931\n",
      "Data columns (total 7 columns):\n",
      " #   Column             Non-Null Count  Dtype\n",
      "---  ------             --------------  -----\n",
      " 0   user_id            64932 non-null      int64\n",
      " 1   learning_time_ms   64932 non-null      int64\n",
      " 2   logged_in_time_ms  64932 non-null      int64\n",
      " 3   language           64504 non-null      object\n",
      " 4   country            48778 non-null      object\n",
      " 5   start              64932 non-null      object\n",
      " 6   end                64932 non-null      object\n",
      "dtypes: object(4), int64(3)\n",
      "memory usage: 3.5 MB\n"
     ]
    }
   ],
   "source": [
    "users.info(buf=None, verbose=True, memory_usage=True)"
   ]
  },
  {
   "cell_type": "code",
   "execution_count": 5,
   "id": "b8d9edda-9a80-4acf-ac7b-174cd534689e",
   "metadata": {},
   "outputs": [
    {
     "name": "stdout",
     "output_type": "stream",
     "text": [
      "<class 'dask.dataframe.core.DataFrame'>\n",
      "Int64Index: 2185200 entries, 0 to 115044\n",
      "Data columns (total 11 columns):\n",
      " #   Column            Non-Null Count  Dtype\n",
      "---  ------            --------------  -----\n",
      " 0   event_id          2185200 non-null      int64\n",
      " 1   user_id           2185200 non-null      int64\n",
      " 2   mode              2153208 non-null      object\n",
      " 3   game_name         2153208 non-null      object\n",
      " 4   learning_time_ms  2153208 non-null      float64\n",
      " 5   subtasks          2153208 non-null      object\n",
      " 6   number_range      2153208 non-null      object\n",
      " 7   start             2185200 non-null      object\n",
      " 8   end               2164557 non-null      object\n",
      " 9   skill_id          2153208 non-null      float64\n",
      "10   type              2185200 non-null      object\n",
      "dtypes: object(7), float64(2), int64(2)\n",
      "memory usage: 183.4 MB\n"
     ]
    }
   ],
   "source": [
    "events.info(buf=None, verbose=True, memory_usage=True)"
   ]
  },
  {
   "cell_type": "code",
   "execution_count": 6,
   "id": "0886a7ae-7bf4-439e-a784-2c384c64f60e",
   "metadata": {},
   "outputs": [
    {
     "name": "stdout",
     "output_type": "stream",
     "text": [
      "<class 'dask.dataframe.core.DataFrame'>\n",
      "Int64Index: 3502884 entries, 0 to 387588\n",
      "Data columns (total 48 columns):\n",
      " #   Column                      Non-Null Count  Dtype\n",
      "---  ------                      --------------  -----\n",
      " 0   subtask_id                  3502884 non-null      int64\n",
      " 1   event_id                    3502884 non-null      int64\n",
      " 2   user_id                     3502884 non-null      int64\n",
      " 3   aim                         676881 non-null      float64\n",
      " 4   answer                      3382635 non-null      object\n",
      " 5   answerMode                  223730 non-null      object\n",
      " 6   availableNumbers            7494 non-null      object\n",
      " 7   correct                     3502884 non-null      bool\n",
      " 8   correctAnswerObject         2971438 non-null      object\n",
      " 9   correctNumber               89100 non-null      float64\n",
      "10   destination                 386650 non-null      object\n",
      "11   distance                    177284 non-null      float64\n",
      "12   hasProperResult             3502884 non-null      bool\n",
      "13   interval                    725059 non-null      object\n",
      "14   lowerBound                  1401940 non-null      float64\n",
      "15   maxHeight                   7494 non-null      float64\n",
      "16   minHeight                   7494 non-null      float64\n",
      "17   mode                        451419 non-null      object\n",
      "18   multiplier                  69246 non-null      float64\n",
      "19   number                      563934 non-null      float64\n",
      "20   numberRepresentations       190066 non-null      object\n",
      "21   numberToMultiply            69246 non-null      float64\n",
      "22   numbers                     516008 non-null      object\n",
      "23   operandA                    223730 non-null      float64\n",
      "24   operandB                    223730 non-null      float64\n",
      "25   operator                    223730 non-null      object\n",
      "26   range                       3502884 non-null      object\n",
      "27   representation              642576 non-null      object\n",
      "28   representations             234260 non-null      object\n",
      "29   result                      236318 non-null      float64\n",
      "30   solution                    190066 non-null      float64\n",
      "31   solutionRepresentation      190066 non-null      object\n",
      "32   solveMode                   223730 non-null      object\n",
      "33   source                      386650 non-null      object\n",
      "34   speed                       676881 non-null      float64\n",
      "35   startPosition               676881 non-null      float64\n",
      "36   subtask_finished_timestamp  2923089 non-null      object\n",
      "37   target                      86825 non-null      float64\n",
      "38   timeoutInSeconds            444621 non-null      float64\n",
      "39   timeoutInSteps              444621 non-null      float64\n",
      "40   type                        3502884 non-null      object\n",
      "41   upperBound                  1401940 non-null      float64\n",
      "42   step                        10038 non-null      float64\n",
      "43   orderIndependent            6798 non-null      float64\n",
      "44   divisor                     2550 non-null      float64\n",
      "45   larger                      121 non-null      float64\n",
      "46   smaller                     121 non-null      float64\n",
      "47   timeout                     452 non-null      float64\n",
      "dtypes: object(18), bool(2), float64(25), int64(3)\n",
      "memory usage: 1.2 GB\n"
     ]
    }
   ],
   "source": [
    "subtasks.info(buf=None, verbose=True, memory_usage=True)"
   ]
  },
  {
   "cell_type": "code",
   "execution_count": 3,
   "id": "34d4ac53-8fc4-4007-b7a0-4c9676fb7b3f",
   "metadata": {},
   "outputs": [
    {
     "name": "stdout",
     "output_type": "stream",
     "text": [
      "CPU times: user 80.3 ms, sys: 54.3 ms, total: 135 ms\n",
      "Wall time: 3.11 s\n"
     ]
    },
    {
     "data": {
      "text/html": [
       "<div>\n",
       "<style scoped>\n",
       "    .dataframe tbody tr th:only-of-type {\n",
       "        vertical-align: middle;\n",
       "    }\n",
       "\n",
       "    .dataframe tbody tr th {\n",
       "        vertical-align: top;\n",
       "    }\n",
       "\n",
       "    .dataframe thead th {\n",
       "        text-align: right;\n",
       "    }\n",
       "</style>\n",
       "<table border=\"1\" class=\"dataframe\">\n",
       "  <thead>\n",
       "    <tr style=\"text-align: right;\">\n",
       "      <th></th>\n",
       "      <th>event_id</th>\n",
       "      <th>user_id</th>\n",
       "      <th>mode</th>\n",
       "      <th>game_name</th>\n",
       "      <th>learning_time_ms</th>\n",
       "      <th>subtasks</th>\n",
       "      <th>number_range</th>\n",
       "      <th>start</th>\n",
       "      <th>end</th>\n",
       "      <th>skill_id</th>\n",
       "      <th>type</th>\n",
       "      <th>Year</th>\n",
       "      <th>Week</th>\n",
       "      <th>Day</th>\n",
       "    </tr>\n",
       "  </thead>\n",
       "  <tbody>\n",
       "    <tr>\n",
       "      <th>0</th>\n",
       "      <td>1</td>\n",
       "      <td>2</td>\n",
       "      <td>NORMAL</td>\n",
       "      <td>Subitizing</td>\n",
       "      <td>13094.0</td>\n",
       "      <td>[{'hasProperResult': True, 'range': 'R10', 'co...</td>\n",
       "      <td>R10</td>\n",
       "      <td>2020-08-20T07:13:50.876Z</td>\n",
       "      <td>2020-08-20T07:14:30.108Z</td>\n",
       "      <td>1.0</td>\n",
       "      <td>task</td>\n",
       "      <td>2020</td>\n",
       "      <td>34</td>\n",
       "      <td>4</td>\n",
       "    </tr>\n",
       "    <tr>\n",
       "      <th>1</th>\n",
       "      <td>3</td>\n",
       "      <td>2</td>\n",
       "      <td>NORMAL</td>\n",
       "      <td>Conversion</td>\n",
       "      <td>15879.0</td>\n",
       "      <td>[{'answer': 6, 'range': 'R10', 'correct': True...</td>\n",
       "      <td>R10</td>\n",
       "      <td>2020-08-21T07:02:20.112Z</td>\n",
       "      <td>2020-08-21T07:02:36.221Z</td>\n",
       "      <td>3.0</td>\n",
       "      <td>task</td>\n",
       "      <td>2020</td>\n",
       "      <td>34</td>\n",
       "      <td>5</td>\n",
       "    </tr>\n",
       "    <tr>\n",
       "      <th>2</th>\n",
       "      <td>4</td>\n",
       "      <td>2</td>\n",
       "      <td>NORMAL</td>\n",
       "      <td>Landing</td>\n",
       "      <td>6075.0</td>\n",
       "      <td>[{'range': 'R10', 'correct': True, 'lowerBound...</td>\n",
       "      <td>R10</td>\n",
       "      <td>2020-08-24T07:02:59.855Z</td>\n",
       "      <td>2020-08-24T07:03:07.382Z</td>\n",
       "      <td>18.0</td>\n",
       "      <td>task</td>\n",
       "      <td>2020</td>\n",
       "      <td>35</td>\n",
       "      <td>1</td>\n",
       "    </tr>\n",
       "    <tr>\n",
       "      <th>3</th>\n",
       "      <td>5</td>\n",
       "      <td>2</td>\n",
       "      <td>NORMAL</td>\n",
       "      <td>Landing</td>\n",
       "      <td>6910.0</td>\n",
       "      <td>[{'range': 'R10', 'correct': True, 'lowerBound...</td>\n",
       "      <td>R10</td>\n",
       "      <td>2020-08-26T06:47:21.504Z</td>\n",
       "      <td>2020-08-26T06:47:30.050Z</td>\n",
       "      <td>19.0</td>\n",
       "      <td>task</td>\n",
       "      <td>2020</td>\n",
       "      <td>35</td>\n",
       "      <td>3</td>\n",
       "    </tr>\n",
       "    <tr>\n",
       "      <th>4</th>\n",
       "      <td>6</td>\n",
       "      <td>2</td>\n",
       "      <td>NORMAL</td>\n",
       "      <td>Calculator</td>\n",
       "      <td>7507.0</td>\n",
       "      <td>[{'range': 'R20', 'answerMode': 'RESULT', 'cor...</td>\n",
       "      <td>R20</td>\n",
       "      <td>2020-08-26T07:20:58.766Z</td>\n",
       "      <td>2020-08-26T07:21:06.439Z</td>\n",
       "      <td>54.0</td>\n",
       "      <td>task</td>\n",
       "      <td>2020</td>\n",
       "      <td>35</td>\n",
       "      <td>3</td>\n",
       "    </tr>\n",
       "  </tbody>\n",
       "</table>\n",
       "</div>"
      ],
      "text/plain": [
       "   event_id  user_id    mode   game_name  learning_time_ms  \\\n",
       "0         1        2  NORMAL  Subitizing           13094.0   \n",
       "1         3        2  NORMAL  Conversion           15879.0   \n",
       "2         4        2  NORMAL     Landing            6075.0   \n",
       "3         5        2  NORMAL     Landing            6910.0   \n",
       "4         6        2  NORMAL  Calculator            7507.0   \n",
       "\n",
       "                                            subtasks number_range  \\\n",
       "0  [{'hasProperResult': True, 'range': 'R10', 'co...          R10   \n",
       "1  [{'answer': 6, 'range': 'R10', 'correct': True...          R10   \n",
       "2  [{'range': 'R10', 'correct': True, 'lowerBound...          R10   \n",
       "3  [{'range': 'R10', 'correct': True, 'lowerBound...          R10   \n",
       "4  [{'range': 'R20', 'answerMode': 'RESULT', 'cor...          R20   \n",
       "\n",
       "                      start                       end  skill_id  type  Year  \\\n",
       "0  2020-08-20T07:13:50.876Z  2020-08-20T07:14:30.108Z       1.0  task  2020   \n",
       "1  2020-08-21T07:02:20.112Z  2020-08-21T07:02:36.221Z       3.0  task  2020   \n",
       "2  2020-08-24T07:02:59.855Z  2020-08-24T07:03:07.382Z      18.0  task  2020   \n",
       "3  2020-08-26T06:47:21.504Z  2020-08-26T06:47:30.050Z      19.0  task  2020   \n",
       "4  2020-08-26T07:20:58.766Z  2020-08-26T07:21:06.439Z      54.0  task  2020   \n",
       "\n",
       "   Week  Day  \n",
       "0    34    4  \n",
       "1    34    5  \n",
       "2    35    1  \n",
       "3    35    3  \n",
       "4    35    3  "
      ]
     },
     "execution_count": 3,
     "metadata": {},
     "output_type": "execute_result"
    }
   ],
   "source": [
    "%time events[['Year', 'Week', 'Day']] = dask.dataframe.to_datetime(events['start']).dt.isocalendar()\n",
    "events.head()"
   ]
  },
  {
   "cell_type": "code",
   "execution_count": null,
   "id": "d49d3d43-6606-49df-8cc0-79e1b6bdb4ac",
   "metadata": {},
   "outputs": [],
   "source": [
    "events['year_week'] = ((events['Year'] - 2015) * 53 + events['Week']).astype(int)\n",
    "ts = events.reset_index().groupby(['user_id','year_week'])['event_id'].count().reset_index()\n",
    "ts = ts.rename(columns={'event_id':'num_events'})"
   ]
  },
  {
   "cell_type": "code",
   "execution_count": 2,
   "id": "34c7b25a-1bcc-4eb8-9319-1419db60b1ea",
   "metadata": {},
   "outputs": [],
   "source": [
    "events_minimal = events.reset_index()[['user_id','event_id','start','skill_id']]"
   ]
  },
  {
   "cell_type": "code",
   "execution_count": 3,
   "id": "a14c2bde-8edd-4586-8c08-1d9e3946f2a2",
   "metadata": {},
   "outputs": [],
   "source": [
    "subtasks_minimal = subtasks.reset_index()[['user_id','event_id','correct']]"
   ]
  },
  {
   "cell_type": "code",
   "execution_count": null,
   "id": "6d3e4210-e964-4069-9924-5e4ff95231da",
   "metadata": {},
   "outputs": [],
   "source": [
    "events_and_substasks = events_minimal.merge(subtasks_minimal, how='left', on=['event_id','user_id'], suffixes=('_event', '_subtask'))\n",
    "events_and_substasks['date'] = pd.to_datetime(events_and_substasks['start'])\n",
    "events_and_substasks[['Year', 'Week', 'Day']] = events_and_substasks['date'].dt.isocalendar()\n",
    "events_and_substasks['year_week'] = (events_and_substasks['Year'] - 2015) * 53 + events_and_substasks['Week']\n"
   ]
  },
  {
   "cell_type": "code",
   "execution_count": null,
   "id": "3fdf3c6c-a0be-4d6e-9470-259fe6d4bf79",
   "metadata": {},
   "outputs": [],
   "source": [
    "events_and_substasks['week_sequential'] = events_and_substasks.groupby('user_id')['year_week'].apply(lambda x: x - x.iat[0])"
   ]
  },
  {
   "cell_type": "code",
   "execution_count": null,
   "id": "30beb9df-4f01-4aab-b743-b046fa279b90",
   "metadata": {},
   "outputs": [],
   "source": [
    "events_and_subtasks.to_csv(\"events_and_subtasks_full.csv\")"
   ]
  }
 ],
 "metadata": {
  "kernelspec": {
   "display_name": "Python",
   "language": "python",
   "name": "python3"
  },
  "language_info": {
   "codemirror_mode": {
    "name": "ipython",
    "version": 3
   },
   "file_extension": ".py",
   "mimetype": "text/x-python",
   "name": "python",
   "nbconvert_exporter": "python",
   "pygments_lexer": "ipython3",
   "version": "3.8.10"
  }
 },
 "nbformat": 4,
 "nbformat_minor": 5
}
