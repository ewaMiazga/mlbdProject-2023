{
 "cells": [
  {
   "cell_type": "code",
   "execution_count": 35,
   "id": "13efb0d6-ddd2-4295-b245-952815b2167c",
   "metadata": {},
   "outputs": [],
   "source": [
    "import numpy as np\n",
    "import pandas as pd\n",
    "import matplotlib.pyplot as plt\n",
    "import seaborn as sns\n",
    "from pandas.api.types import is_numeric_dtype\n",
    "\n",
    "from networkx.drawing.nx_agraph import read_dot\n",
    "import tqdm"
   ]
  },
  {
   "cell_type": "code",
   "execution_count": 36,
   "id": "d3abdcc6-2455-493e-bffd-5b7fd061cdbe",
   "metadata": {},
   "outputs": [],
   "source": [
    "import sys\n",
    "sys.path.insert(0, '../milestone-04')"
   ]
  },
  {
   "cell_type": "code",
   "execution_count": 37,
   "id": "e6edd65a-0955-45b6-8ef2-a1b076826a13",
   "metadata": {},
   "outputs": [],
   "source": [
    "# Import the tables of the data set as dataframes.\n",
    "# Choose random or uniform sampling\n",
    "\n",
    "if 0:\n",
    "    DATA_DIR = '../milestone-04/data' \n",
    "\n",
    "    # You can use the nrows=X argument in pd.read_csv to truncate your data\n",
    "    users = pd.read_csv('{}/calcularis_small_users.csv'.format(DATA_DIR), index_col=0)\n",
    "    events = pd.read_csv('{}/calcularis_small_events.csv'.format(DATA_DIR), index_col=0)\n",
    "    subtasks = pd.read_csv('{}/calcularis_small_subtasks.csv'.format(DATA_DIR), index_col=0)\n",
    "else:\n",
    "    DATA_DIR = './data_uniform' \n",
    "    users = pd.read_csv('{}/users_uniform_sample.csv'.format(DATA_DIR),index_col=1)\n",
    "    events = pd.read_csv('{}/events_uniform_sample.csv'.format(DATA_DIR), index_col=1)\n",
    "    subtasks = pd.read_csv('{}/subtasks_uniform_sample.csv'.format(DATA_DIR), index_col=1)"
   ]
  },
  {
   "cell_type": "code",
   "execution_count": 8,
   "id": "3c445926-65a0-477d-a1f6-ac28a337b892",
   "metadata": {},
   "outputs": [],
   "source": [
    "# Read the DOT file and store it as a NetworkX graph\n",
    "dot_file_path = '../milestone-04/data/04_calcularis_skill_map_dot_file.dot'\n",
    "G = read_dot(dot_file_path)"
   ]
  },
  {
   "cell_type": "code",
   "execution_count": 10,
   "id": "5a2b47fa-ed26-479e-9d7f-b46381abdd72",
   "metadata": {},
   "outputs": [],
   "source": [
    "# helper methods\n",
    "from utils import get_nodes, get_skill_id_ranks, choose_ranking, find_user_subtasks, calculate_mastery_level, find_word_in_list, get_random_ids, convert_to_csv, load_from_csv"
   ]
  },
  {
   "cell_type": "code",
   "execution_count": 31,
   "id": "c59ebf28-43d4-4cb8-a491-fb028bf15f4b",
   "metadata": {},
   "outputs": [
    {
     "name": "stderr",
     "output_type": "stream",
     "text": [
      "100%|\u001b[38;2;200;61;149m██████████\u001b[0m| 1000/1000 [16:07<00:00,  1.03it/s]\n"
     ]
    }
   ],
   "source": [
    "# Create dataframe with multindex [user_id, week, game]\n",
    "def create_dataframe_multi_index(G, how_many=100, verbose=False):\n",
    "\n",
    "    # Create empty dataframe\n",
    "    multi_index = [[], [], []]\n",
    "    df = pd.DataFrame(columns = ['mastery_level', 'mastery_level_diff'], index = multi_index)\n",
    "    df.index = df.index.set_names(['user_id', 'game_name', 'week'])\n",
    "\n",
    "    subtasks_events = subtasks.merge(events, on='event_id')\n",
    "\n",
    "    # Create users iterator\n",
    "    users_iterator = tqdm.tqdm(users.iterrows(), total=len(users), colour='#C83D95') if verbose else users.iterrows()\n",
    "\n",
    "    for user_id, user in users_iterator:\n",
    "        # Find user_subtasks \n",
    "        user_subtasks = find_user_subtasks(subtasks_events, user_id)[['week_number', 'game_name', 'skill_id', 'correct']]\n",
    "        \n",
    "        # Create index for the user:\n",
    "        # Get unique games names\n",
    "        game_names = events.loc[subtasks['event_id']]['game_name'].unique()\n",
    "\n",
    "        # Get unique weeks\n",
    "        unique_weeks = user_subtasks['week_number'].unique()\n",
    "\n",
    "        len_weeks = len(unique_weeks)\n",
    "        len_game_names = len(game_names)\n",
    "\n",
    "        user_ids = [user_id for i in range(len_weeks * len_game_names)]\n",
    "\n",
    "        user_unique_weeks = user_subtasks['week_number'].unique()\n",
    "        user_unique_weeks = np.concatenate([user_unique_weeks]* (len_game_names))\n",
    "\n",
    "        user_unique_games = [game for game in game_names for week in range(len_weeks)]\n",
    "\n",
    "        tuples = list(zip(user_ids, user_unique_games, user_unique_weeks))\n",
    "\n",
    "        # Assign index values\n",
    "        index = pd.MultiIndex.from_tuples(tuples, names=['user_id', 'game_name', 'week'])\n",
    "        user_df = pd.DataFrame(columns = ['mastery_level', 'mastery_level_diff'], index = index)\n",
    "\n",
    "        # Calculate mastery level\n",
    "        mastery_level = []\n",
    "        for game in game_names:\n",
    "            for week in unique_weeks:\n",
    "                # Find info about statistics of the user for the game for the week\n",
    "                associated_events = user_subtasks[(user_subtasks['game_name'] == game) & (user_subtasks['week_number'] == week)]\n",
    "                \n",
    "                # If the user played the game during the week\n",
    "                if not associated_events.empty:\n",
    "                    mean_skill = associated_events['skill_id'].mean()\n",
    "                    lv = calculate_mastery_level(G, user_subtasks, week, game, mean_skill)\n",
    "                    mastery_level.append(lv)\n",
    "                # If the user did not play the game during the week, but we can get previous statictics\n",
    "                elif week > unique_weeks[0]:\n",
    "                    mastery_level.append(mastery_level[-1])\n",
    "                # If the week == 1 and player did not play the game\n",
    "                else: \n",
    "                    mastery_level.append(0.0)\n",
    "                \n",
    "\n",
    "        # Assign mastery levls\n",
    "        mastery_level = pd.DataFrame(mastery_level, columns = ['mastery_level'])\n",
    "        mastery_level.index = index\n",
    "        user_df['mastery_level'] = mastery_level\n",
    "\n",
    "        # Assign the difference of mastery lvls\n",
    "        user_df['mastery_level_diff'] = user_df['mastery_level'].diff()\n",
    "        user_df.loc[user_df.index.get_level_values('week') == 1, 'mastery_level_diff'] = 0.0\n",
    "\n",
    "        # Add stats of the user to the dataframe\n",
    "        df = pd.concat([df, user_df], axis=0)\n",
    "\n",
    "        # process for chosen part of users dataframe\n",
    "        # if user_id > how_many:\n",
    "        #     break\n",
    "    return df\n",
    "\n",
    "df = create_dataframe_multi_index(G, len(users), True)\n",
    "convert_to_csv(df, 'dataframe_uniform.csv')"
   ]
  },
  {
   "cell_type": "code",
   "execution_count": 33,
   "id": "81040c0b-d82b-4ce8-bff4-a65aa6b4edf6",
   "metadata": {},
   "outputs": [
    {
     "data": {
      "text/plain": [
       "940"
      ]
     },
     "execution_count": 33,
     "metadata": {},
     "output_type": "execute_result"
    }
   ],
   "source": [
    "df = load_from_csv('dataframe_uniform.csv')\n",
    "len(df.reset_index()['user_id'].unique())"
   ]
  },
  {
   "cell_type": "code",
   "execution_count": 47,
   "id": "da8ecaad-516b-40d7-9c20-168535d44bce",
   "metadata": {},
   "outputs": [
    {
     "data": {
      "text/plain": [
       "Int64Index([  123,   257,   594,  1148,  1206,  1227,  1653,  2246,  2443,\n",
       "             2517,\n",
       "            ...\n",
       "            38921, 39725, 39943, 40148, 40166, 40580, 40592, 41006, 41691,\n",
       "            42880],\n",
       "           dtype='int64', name='user_id', length=150)"
      ]
     },
     "execution_count": 47,
     "metadata": {},
     "output_type": "execute_result"
    }
   ],
   "source": [
    "users.query('country == \"CH\"').index[:150]"
   ]
  },
  {
   "cell_type": "code",
   "execution_count": 43,
   "id": "21152523-5a14-43e8-9f53-69541544a1c4",
   "metadata": {},
   "outputs": [
    {
     "data": {
      "text/plain": [
       "150.0"
      ]
     },
     "execution_count": 43,
     "metadata": {},
     "output_type": "execute_result"
    }
   ],
   "source": [
    "600/4"
   ]
  },
  {
   "cell_type": "code",
   "execution_count": 44,
   "id": "0f592a67-c762-4b32-a310-7cade8edd36e",
   "metadata": {},
   "outputs": [
    {
     "data": {
      "text/plain": [
       "50.0"
      ]
     },
     "execution_count": 44,
     "metadata": {},
     "output_type": "execute_result"
    }
   ],
   "source": [
    "200/4"
   ]
  },
  {
   "cell_type": "code",
   "execution_count": 48,
   "id": "8fd785df-1e95-4e07-b533-3e5ad8758554",
   "metadata": {},
   "outputs": [
    {
     "data": {
      "text/plain": [
       "array(['NL', 'CH', 'CA', 'DE'], dtype=object)"
      ]
     },
     "execution_count": 48,
     "metadata": {},
     "output_type": "execute_result"
    }
   ],
   "source": [
    "users.country.unique()"
   ]
  },
  {
   "cell_type": "code",
   "execution_count": 49,
   "id": "60ac10d9-9bf5-4f79-b46b-2bc686278abb",
   "metadata": {},
   "outputs": [],
   "source": [
    "train_user_ids = []\n",
    "valid_user_ids = []\n",
    "test_user_ids = []\n",
    "for c in users.country.unique():\n",
    "    train_user_ids.extend(list(users.query(f'country == \"{c}\"').index[:150]))\n",
    "    valid_user_ids.extend(list(users.query(f'country == \"{c}\"').index[150:200]))\n",
    "    test_user_ids.extend(list(users.query(f'country == \"{c}\"').index[200:]))"
   ]
  },
  {
   "cell_type": "code",
   "execution_count": 53,
   "id": "67161edf-b7a3-46a0-9b6c-68ff2d00c2a9",
   "metadata": {},
   "outputs": [
    {
     "data": {
      "text/html": [
       "<div>\n",
       "<style scoped>\n",
       "    .dataframe tbody tr th:only-of-type {\n",
       "        vertical-align: middle;\n",
       "    }\n",
       "\n",
       "    .dataframe tbody tr th {\n",
       "        vertical-align: top;\n",
       "    }\n",
       "\n",
       "    .dataframe thead th {\n",
       "        text-align: right;\n",
       "    }\n",
       "</style>\n",
       "<table border=\"1\" class=\"dataframe\">\n",
       "  <thead>\n",
       "    <tr style=\"text-align: right;\">\n",
       "      <th></th>\n",
       "      <th>Unnamed: 0</th>\n",
       "      <th>learning_time_ms</th>\n",
       "      <th>logged_in_time_ms</th>\n",
       "      <th>language</th>\n",
       "      <th>country</th>\n",
       "      <th>start</th>\n",
       "      <th>end</th>\n",
       "    </tr>\n",
       "    <tr>\n",
       "      <th>user_id</th>\n",
       "      <th></th>\n",
       "      <th></th>\n",
       "      <th></th>\n",
       "      <th></th>\n",
       "      <th></th>\n",
       "      <th></th>\n",
       "      <th></th>\n",
       "    </tr>\n",
       "  </thead>\n",
       "  <tbody>\n",
       "    <tr>\n",
       "      <th>34</th>\n",
       "      <td>32</td>\n",
       "      <td>43987892</td>\n",
       "      <td>129830922</td>\n",
       "      <td>nl</td>\n",
       "      <td>NL</td>\n",
       "      <td>2022-07-06T06:37:22.930Z</td>\n",
       "      <td>2022-12-13T16:32:34.573Z</td>\n",
       "    </tr>\n",
       "    <tr>\n",
       "      <th>123</th>\n",
       "      <td>121</td>\n",
       "      <td>56796419</td>\n",
       "      <td>92098216</td>\n",
       "      <td>de</td>\n",
       "      <td>CH</td>\n",
       "      <td>2019-09-02T08:55:50.353Z</td>\n",
       "      <td>2021-06-14T08:06:06.157Z</td>\n",
       "    </tr>\n",
       "    <tr>\n",
       "      <th>257</th>\n",
       "      <td>255</td>\n",
       "      <td>30279516</td>\n",
       "      <td>51032678</td>\n",
       "      <td>de</td>\n",
       "      <td>CH</td>\n",
       "      <td>2022-06-08T07:51:07.097Z</td>\n",
       "      <td>2023-02-06T09:09:06.504Z</td>\n",
       "    </tr>\n",
       "    <tr>\n",
       "      <th>356</th>\n",
       "      <td>354</td>\n",
       "      <td>14103687</td>\n",
       "      <td>34441128</td>\n",
       "      <td>fr</td>\n",
       "      <td>CA</td>\n",
       "      <td>2020-01-13T13:26:17.857Z</td>\n",
       "      <td>2020-05-13T14:12:06.474Z</td>\n",
       "    </tr>\n",
       "    <tr>\n",
       "      <th>535</th>\n",
       "      <td>533</td>\n",
       "      <td>31446639</td>\n",
       "      <td>137101673</td>\n",
       "      <td>nl</td>\n",
       "      <td>NL</td>\n",
       "      <td>2021-05-27T06:48:52.545Z</td>\n",
       "      <td>2022-11-16T12:58:02.148Z</td>\n",
       "    </tr>\n",
       "    <tr>\n",
       "      <th>...</th>\n",
       "      <td>...</td>\n",
       "      <td>...</td>\n",
       "      <td>...</td>\n",
       "      <td>...</td>\n",
       "      <td>...</td>\n",
       "      <td>...</td>\n",
       "      <td>...</td>\n",
       "    </tr>\n",
       "    <tr>\n",
       "      <th>40580</th>\n",
       "      <td>40538</td>\n",
       "      <td>73988135</td>\n",
       "      <td>140322376</td>\n",
       "      <td>de</td>\n",
       "      <td>CH</td>\n",
       "      <td>2019-10-03T06:44:10.079Z</td>\n",
       "      <td>2021-05-15T14:35:13.514Z</td>\n",
       "    </tr>\n",
       "    <tr>\n",
       "      <th>40592</th>\n",
       "      <td>40550</td>\n",
       "      <td>15302416</td>\n",
       "      <td>40350857</td>\n",
       "      <td>de</td>\n",
       "      <td>CH</td>\n",
       "      <td>2020-06-18T08:26:44.100Z</td>\n",
       "      <td>2022-03-23T13:38:01.459Z</td>\n",
       "    </tr>\n",
       "    <tr>\n",
       "      <th>41006</th>\n",
       "      <td>40964</td>\n",
       "      <td>90656028</td>\n",
       "      <td>145184478</td>\n",
       "      <td>de</td>\n",
       "      <td>CH</td>\n",
       "      <td>2020-11-24T08:13:37.706Z</td>\n",
       "      <td>2022-10-05T05:06:39.827Z</td>\n",
       "    </tr>\n",
       "    <tr>\n",
       "      <th>41691</th>\n",
       "      <td>41648</td>\n",
       "      <td>27919422</td>\n",
       "      <td>62380822</td>\n",
       "      <td>de</td>\n",
       "      <td>CH</td>\n",
       "      <td>2019-03-16T07:24:42.321Z</td>\n",
       "      <td>2023-02-05T15:58:40.098Z</td>\n",
       "    </tr>\n",
       "    <tr>\n",
       "      <th>42880</th>\n",
       "      <td>42836</td>\n",
       "      <td>44418089</td>\n",
       "      <td>72973298</td>\n",
       "      <td>de</td>\n",
       "      <td>CH</td>\n",
       "      <td>2022-02-16T07:55:28.574Z</td>\n",
       "      <td>2022-11-18T10:21:31.401Z</td>\n",
       "    </tr>\n",
       "  </tbody>\n",
       "</table>\n",
       "<p>600 rows × 7 columns</p>\n",
       "</div>"
      ],
      "text/plain": [
       "         Unnamed: 0  learning_time_ms  logged_in_time_ms language country  \\\n",
       "user_id                                                                     \n",
       "34               32          43987892          129830922       nl      NL   \n",
       "123             121          56796419           92098216       de      CH   \n",
       "257             255          30279516           51032678       de      CH   \n",
       "356             354          14103687           34441128       fr      CA   \n",
       "535             533          31446639          137101673       nl      NL   \n",
       "...             ...               ...                ...      ...     ...   \n",
       "40580         40538          73988135          140322376       de      CH   \n",
       "40592         40550          15302416           40350857       de      CH   \n",
       "41006         40964          90656028          145184478       de      CH   \n",
       "41691         41648          27919422           62380822       de      CH   \n",
       "42880         42836          44418089           72973298       de      CH   \n",
       "\n",
       "                            start                       end  \n",
       "user_id                                                      \n",
       "34       2022-07-06T06:37:22.930Z  2022-12-13T16:32:34.573Z  \n",
       "123      2019-09-02T08:55:50.353Z  2021-06-14T08:06:06.157Z  \n",
       "257      2022-06-08T07:51:07.097Z  2023-02-06T09:09:06.504Z  \n",
       "356      2020-01-13T13:26:17.857Z  2020-05-13T14:12:06.474Z  \n",
       "535      2021-05-27T06:48:52.545Z  2022-11-16T12:58:02.148Z  \n",
       "...                           ...                       ...  \n",
       "40580    2019-10-03T06:44:10.079Z  2021-05-15T14:35:13.514Z  \n",
       "40592    2020-06-18T08:26:44.100Z  2022-03-23T13:38:01.459Z  \n",
       "41006    2020-11-24T08:13:37.706Z  2022-10-05T05:06:39.827Z  \n",
       "41691    2019-03-16T07:24:42.321Z  2023-02-05T15:58:40.098Z  \n",
       "42880    2022-02-16T07:55:28.574Z  2022-11-18T10:21:31.401Z  \n",
       "\n",
       "[600 rows x 7 columns]"
      ]
     },
     "execution_count": 53,
     "metadata": {},
     "output_type": "execute_result"
    }
   ],
   "source": [
    "users[users.index.isin(train_user_ids)]"
   ]
  }
 ],
 "metadata": {
  "kernelspec": {
   "display_name": "mlbd-project",
   "language": "python",
   "name": "mlbd-project"
  },
  "language_info": {
   "codemirror_mode": {
    "name": "ipython",
    "version": 3
   },
   "file_extension": ".py",
   "mimetype": "text/x-python",
   "name": "python",
   "nbconvert_exporter": "python",
   "pygments_lexer": "ipython3",
   "version": "3.8.10"
  }
 },
 "nbformat": 4,
 "nbformat_minor": 5
}
