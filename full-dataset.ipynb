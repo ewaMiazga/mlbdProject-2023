{
 "cells": [
  {
   "cell_type": "code",
   "execution_count": null,
   "id": "36dbea4d-0b59-44aa-bb96-f57b080813d0",
   "metadata": {
    "tags": []
   },
   "outputs": [],
   "source": [
    "# https://www.kaggle.com/code/deepakmys/riiid-eda-with-dask\n",
    "# https://docs.dask.org/en/stable/dataframe.html"
   ]
  },
  {
   "cell_type": "code",
   "execution_count": 43,
   "id": "a09dd2cc-e305-4220-8363-3ab221de7439",
   "metadata": {},
   "outputs": [],
   "source": [
    "# Import the tables of the data set as dataframes.\n",
    "import numpy as np\n",
    "import pandas as pd\n",
    "import matplotlib.pyplot as plt\n",
    "import seaborn as sns\n",
    "from pandas.api.types import is_numeric_dtype\n",
    "import dask.dataframe as dd\n",
    "import dask\n",
    "\n",
    "from dask.distributed import Client\n",
    "\n",
    "client = Client(\"tcp://127.0.0.1:46321\")\n",
    "client\n",
    "\n",
    "DATA_DIR = '../mlbd-2023/data/calcularis'\n",
    "\n",
    "# users = pd.read_csv('{}/full_calcularis_users.csv'.format(DATA_DIR), index_col=0)\n",
    "# events = pd.read_csv('{}/full_calcularis_events.csv'.format(DATA_DIR), index_col=0)\n",
    "# subtasks = pd.read_csv('{}/full_calcularis_subtasks.csv'.format(DATA_DIR), index_col=0)\n",
    "\n",
    "users = dd.read_csv('{}/full_calcularis_users.csv'.format(DATA_DIR))\n",
    "events = dd.read_csv('{}/full_calcularis_events.csv'.format(DATA_DIR))\n",
    "subtasks = dd.read_csv('{}/full_calcularis_subtasks.csv'.format(DATA_DIR), dtype={'availableNumbers': 'object',\n",
    "       'interval': 'object',\n",
    "       'numberRepresentations': 'object',\n",
    "       'solutionRepresentation': 'object'})\n"
   ]
  },
  {
   "cell_type": "code",
   "execution_count": 14,
   "id": "7d6611b9-8e00-4003-8fd9-bde902125aa8",
   "metadata": {},
   "outputs": [
    {
     "name": "stdout",
     "output_type": "stream",
     "text": [
      "There are 64932 users in the data with 0 nans\n"
     ]
    }
   ],
   "source": [
    "print(f\"There are {len(users)} users in the data with {len(users[users['start'].isna() == 1])} nans\")\n"
   ]
  },
  {
   "cell_type": "code",
   "execution_count": 40,
   "id": "f4387c1f-3cb4-4c51-a93e-b3cb6f1ac93c",
   "metadata": {},
   "outputs": [
    {
     "name": "stdout",
     "output_type": "stream",
     "text": [
      "<class 'dask.dataframe.core.DataFrame'>\n",
      "RangeIndex: 64932 entries, 0 to 64931\n",
      "Data columns (total 7 columns):\n",
      " #   Column             Non-Null Count  Dtype\n",
      "---  ------             --------------  -----\n",
      " 0   user_id            64932 non-null      int64\n",
      " 1   learning_time_ms   64932 non-null      int64\n",
      " 2   logged_in_time_ms  64932 non-null      int64\n",
      " 3   language           64504 non-null      object\n",
      " 4   country            48778 non-null      object\n",
      " 5   start              64932 non-null      object\n",
      " 6   end                64932 non-null      object\n",
      "dtypes: object(4), int64(3)\n",
      "memory usage: 3.5 MB\n"
     ]
    }
   ],
   "source": [
    "users.info(buf=None, verbose=True, memory_usage=True)"
   ]
  },
  {
   "cell_type": "code",
   "execution_count": 41,
   "id": "b8d9edda-9a80-4acf-ac7b-174cd534689e",
   "metadata": {},
   "outputs": [
    {
     "name": "stdout",
     "output_type": "stream",
     "text": [
      "<class 'dask.dataframe.core.DataFrame'>\n",
      "Int64Index: 2185200 entries, 0 to 115044\n",
      "Data columns (total 11 columns):\n",
      " #   Column            Non-Null Count  Dtype\n",
      "---  ------            --------------  -----\n",
      " 0   event_id          2185200 non-null      int64\n",
      " 1   user_id           2185200 non-null      int64\n",
      " 2   mode              2153208 non-null      object\n",
      " 3   game_name         2153208 non-null      object\n",
      " 4   learning_time_ms  2153208 non-null      float64\n",
      " 5   subtasks          2153208 non-null      object\n",
      " 6   number_range      2153208 non-null      object\n",
      " 7   start             2185200 non-null      object\n",
      " 8   end               2164557 non-null      object\n",
      " 9   skill_id          2153208 non-null      float64\n",
      "10   type              2185200 non-null      object\n",
      "dtypes: object(7), float64(2), int64(2)\n",
      "memory usage: 183.4 MB\n"
     ]
    }
   ],
   "source": [
    "events.info(buf=None, verbose=True, memory_usage=True)"
   ]
  },
  {
   "cell_type": "code",
   "execution_count": 44,
   "id": "0886a7ae-7bf4-439e-a784-2c384c64f60e",
   "metadata": {},
   "outputs": [
    {
     "name": "stdout",
     "output_type": "stream",
     "text": [
      "<class 'dask.dataframe.core.DataFrame'>\n",
      "Int64Index: 3502884 entries, 0 to 387588\n",
      "Data columns (total 48 columns):\n",
      " #   Column                      Non-Null Count  Dtype\n",
      "---  ------                      --------------  -----\n",
      " 0   subtask_id                  3502884 non-null      int64\n",
      " 1   event_id                    3502884 non-null      int64\n",
      " 2   user_id                     3502884 non-null      int64\n",
      " 3   aim                         676881 non-null      float64\n",
      " 4   answer                      3382635 non-null      object\n",
      " 5   answerMode                  223730 non-null      object\n",
      " 6   availableNumbers            7494 non-null      object\n",
      " 7   correct                     3502884 non-null      bool\n",
      " 8   correctAnswerObject         2971438 non-null      object\n",
      " 9   correctNumber               89100 non-null      float64\n",
      "10   destination                 386650 non-null      object\n",
      "11   distance                    177284 non-null      float64\n",
      "12   hasProperResult             3502884 non-null      bool\n",
      "13   interval                    725059 non-null      object\n",
      "14   lowerBound                  1401940 non-null      float64\n",
      "15   maxHeight                   7494 non-null      float64\n",
      "16   minHeight                   7494 non-null      float64\n",
      "17   mode                        451419 non-null      object\n",
      "18   multiplier                  69246 non-null      float64\n",
      "19   number                      563934 non-null      float64\n",
      "20   numberRepresentations       190066 non-null      object\n",
      "21   numberToMultiply            69246 non-null      float64\n",
      "22   numbers                     516008 non-null      object\n",
      "23   operandA                    223730 non-null      float64\n",
      "24   operandB                    223730 non-null      float64\n",
      "25   operator                    223730 non-null      object\n",
      "26   range                       3502884 non-null      object\n",
      "27   representation              642576 non-null      object\n",
      "28   representations             234260 non-null      object\n",
      "29   result                      236318 non-null      float64\n",
      "30   solution                    190066 non-null      float64\n",
      "31   solutionRepresentation      190066 non-null      object\n",
      "32   solveMode                   223730 non-null      object\n",
      "33   source                      386650 non-null      object\n",
      "34   speed                       676881 non-null      float64\n",
      "35   startPosition               676881 non-null      float64\n",
      "36   subtask_finished_timestamp  2923089 non-null      object\n",
      "37   target                      86825 non-null      float64\n",
      "38   timeoutInSeconds            444621 non-null      float64\n",
      "39   timeoutInSteps              444621 non-null      float64\n",
      "40   type                        3502884 non-null      object\n",
      "41   upperBound                  1401940 non-null      float64\n",
      "42   step                        10038 non-null      float64\n",
      "43   orderIndependent            6798 non-null      float64\n",
      "44   divisor                     2550 non-null      float64\n",
      "45   larger                      121 non-null      float64\n",
      "46   smaller                     121 non-null      float64\n",
      "47   timeout                     452 non-null      float64\n",
      "dtypes: object(18), bool(2), float64(25), int64(3)\n",
      "memory usage: 1.2 GB\n"
     ]
    }
   ],
   "source": [
    "subtasks.info(buf=None, verbose=True, memory_usage=True)"
   ]
  },
  {
   "cell_type": "code",
   "execution_count": null,
   "id": "34d4ac53-8fc4-4007-b7a0-4c9676fb7b3f",
   "metadata": {},
   "outputs": [],
   "source": []
  }
 ],
 "metadata": {
  "kernelspec": {
   "display_name": "Python",
   "language": "python",
   "name": "python3"
  },
  "language_info": {
   "codemirror_mode": {
    "name": "ipython",
    "version": 3
   },
   "file_extension": ".py",
   "mimetype": "text/x-python",
   "name": "python",
   "nbconvert_exporter": "python",
   "pygments_lexer": "ipython3",
   "version": "3.8.10"
  }
 },
 "nbformat": 4,
 "nbformat_minor": 5
}
