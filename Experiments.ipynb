{
 "cells": [
  {
   "cell_type": "code",
   "execution_count": 1,
   "id": "efd67644-603b-4a06-a6ed-5c0be430e004",
   "metadata": {},
   "outputs": [],
   "source": [
    "# References: https://www.kaggle.com/code/erikbruin/riiid-comprehensive-eda-baseline#2.-Baseline-model"
   ]
  },
  {
   "cell_type": "markdown",
   "id": "f05fd127-07a3-46ac-81c0-0110b6a2c775",
   "metadata": {},
   "source": [
    "# LGBM Model simple"
   ]
  },
  {
   "cell_type": "code",
   "execution_count": 9,
   "id": "8201ac96-0525-495a-99ea-f46e10bee727",
   "metadata": {},
   "outputs": [],
   "source": [
    "# Import the tables of the data set as dataframes.\n",
    "import numpy as np\n",
    "import pandas as pd\n",
    "import matplotlib.pyplot as plt\n",
    "import seaborn as sns\n",
    "from pandas.api.types import is_numeric_dtype\n",
    "\n",
    "\n",
    "DATA_DIR = '../mlbd-2023/data/calcularis'\n",
    "\n",
    "users = pd.read_csv('{}/calcularis_small_users.csv'.format(DATA_DIR), index_col=0)\n",
    "events = pd.read_csv('{}/calcularis_small_events.csv'.format(DATA_DIR), index_col=0)\n",
    "subtasks = pd.read_csv('{}/calcularis_small_subtasks.csv'.format(DATA_DIR), index_col=0)\n"
   ]
  },
  {
   "cell_type": "code",
   "execution_count": 10,
   "id": "5847a2d3-7ccf-4122-af56-4d10735e2951",
   "metadata": {},
   "outputs": [],
   "source": [
    "import lightgbm as lgb"
   ]
  },
  {
   "cell_type": "markdown",
   "id": "6796c3c9-1b3e-4783-9c7a-c0d1d71db2b6",
   "metadata": {},
   "source": [
    "## Create time series\n",
    "- Create column \"week_sequential\" -> Normalize dates to start at 1 for every student\n",
    "- Join events and subtasks on event_id. Ignore subtasks not tied to an event\n"
   ]
  },
  {
   "cell_type": "code",
   "execution_count": 11,
   "id": "b120d6a5-2be4-40bc-a6ca-a028399588f9",
   "metadata": {},
   "outputs": [],
   "source": [
    "events[['Year', 'Week', 'Day']] = pd.to_datetime(events['start']).dt.isocalendar()\n",
    "events['year_week'] = ((events['Year'] - 2015) * 53 + events['Week']).astype(int)\n",
    "ts = events.reset_index().groupby(['user_id','year_week'])['event_id'].count().reset_index()\n",
    "ts.rename(columns={'event_id':'num_events'}, inplace=True)"
   ]
  },
  {
   "cell_type": "code",
   "execution_count": 12,
   "id": "7c43b60f-310b-49bc-b279-f564bcb41288",
   "metadata": {},
   "outputs": [
    {
     "name": "stdout",
     "output_type": "stream",
     "text": [
      "427\n",
      "Some events have no subtasks\n",
      "0\n",
      "There are no subtasks which don't correspond to an event\n",
      "We don't care about subtasks which don't have a coresponding event_id because we don't know what skill they are for\n"
     ]
    }
   ],
   "source": [
    "print(len(set(events.reset_index().event_id.unique()) - set(subtasks.event_id.unique())))\n",
    "print(\"Some events have no subtasks\")\n",
    "print(len(set(subtasks.event_id.unique()) - set(events.reset_index().event_id.unique())))\n",
    "print(\"There are no subtasks which don't correspond to an event\")\n",
    "print(\"We don't care about subtasks which don't have a coresponding event_id because we don't know what skill they are for\")"
   ]
  },
  {
   "cell_type": "code",
   "execution_count": 13,
   "id": "ed1c6621-ba61-4acd-8472-e46f160ef324",
   "metadata": {},
   "outputs": [],
   "source": [
    "events_and_substasks = events.reset_index().merge(subtasks.reset_index(), how='left', on=['event_id','user_id'], suffixes=('_event', '_subtask'))\n",
    "events_and_substasks['date'] = pd.to_datetime(events_and_substasks['start'])\n",
    "events_and_substasks[['Year', 'Week', 'Day']] = events_and_substasks['date'].dt.isocalendar()\n",
    "events_and_substasks['year_week'] = (events_and_substasks['Year'] - 2015) * 53 + events_and_substasks['Week']\n",
    "events_and_substasks['week_sequential'] = events_and_substasks.groupby('user_id')['year_week'].apply(lambda x: x - x.iat[0])"
   ]
  },
  {
   "cell_type": "code",
   "execution_count": 14,
   "id": "fe72249f-9172-43a2-a6a7-8fe45e278d11",
   "metadata": {},
   "outputs": [],
   "source": [
    "task_events = events_and_substasks.query('type_event == \"task\" & correct != \"nan\"')"
   ]
  },
  {
   "cell_type": "markdown",
   "id": "97da697b-8e58-4e73-9461-2099594835c1",
   "metadata": {},
   "source": [
    "## Feature Selection\n",
    "- Ignore categorical features with nulls for now"
   ]
  },
  {
   "cell_type": "code",
   "execution_count": 15,
   "id": "68336857-54d4-4033-a65f-0905bbcad065",
   "metadata": {},
   "outputs": [],
   "source": [
    "index = ['event_id','user_id']\n",
    "cat_features = ['mode_event', 'game_name','number_range','skill_id', 'type_subtask']\n",
    "cat_features_withnulls = [ 'destination', 'multiplier','operator','representation', 'solutionRepresentation', 'solveMode']\n",
    "date_features = ['date','Year', 'Week', 'Day','week_sequential']\n",
    "target_feature = ['correct']"
   ]
  },
  {
   "cell_type": "code",
   "execution_count": 16,
   "id": "24abed13-a345-4938-b0b2-eba76e9dde8e",
   "metadata": {},
   "outputs": [],
   "source": [
    "df = task_events[index + cat_features + date_features + target_feature]"
   ]
  },
  {
   "cell_type": "markdown",
   "id": "302c09f2-fa2c-48d2-919c-218a132e978d",
   "metadata": {},
   "source": [
    "## Feature Engineering\n",
    "- Create column \"cumulative_percent_correct\" - a feature for each student on their percentage correct so far (no data leakage from the future!)"
   ]
  },
  {
   "cell_type": "code",
   "execution_count": 17,
   "id": "51510a3a-fdb0-4d2f-b363-c36e7a05bb38",
   "metadata": {},
   "outputs": [],
   "source": [
    "df = df.sort_values(by='date')"
   ]
  },
  {
   "cell_type": "code",
   "execution_count": 18,
   "id": "4229f082-e3c9-4f21-a15b-4ed8779a3c8e",
   "metadata": {},
   "outputs": [],
   "source": [
    "# Create a feature that represents the student's overall cumulative accuracy per skill\n",
    "cumulative_percent_correct = df.groupby(['user_id','skill_id'],sort=False)['correct'].expanding(1).mean().reset_index().drop(columns=['user_id','skill_id']).rename(columns={'correct':'cumulative_percent_correct'})"
   ]
  },
  {
   "cell_type": "code",
   "execution_count": 19,
   "id": "4d1cb66d-ff18-40af-b91d-a7b4866cae21",
   "metadata": {},
   "outputs": [],
   "source": [
    "df = df.merge(cumulative_percent_correct, left_index=True, right_on='level_2', how='left')"
   ]
  },
  {
   "cell_type": "code",
   "execution_count": 20,
   "id": "1a6dca5f-3c6c-4ed0-ba8b-672b2111464c",
   "metadata": {},
   "outputs": [],
   "source": [
    "# Create a feature that represents the student's accuracy over the last 30 days per skill\n",
    "# window_size = 30\n",
    "# df_roll = df.groupby(['user_id','skill_id'])['correct'].rolling(window_size).mean()\n",
    "\n",
    "# Other ideas:\n",
    "# Num Questions answered so far\n",
    "# percent correct on skill type by all players so far"
   ]
  },
  {
   "cell_type": "code",
   "execution_count": 21,
   "id": "15146dac-a396-4574-b437-2078a94766cc",
   "metadata": {},
   "outputs": [
    {
     "data": {
      "text/html": [
       "<div>\n",
       "<style scoped>\n",
       "    .dataframe tbody tr th:only-of-type {\n",
       "        vertical-align: middle;\n",
       "    }\n",
       "\n",
       "    .dataframe tbody tr th {\n",
       "        vertical-align: top;\n",
       "    }\n",
       "\n",
       "    .dataframe thead th {\n",
       "        text-align: right;\n",
       "    }\n",
       "</style>\n",
       "<table border=\"1\" class=\"dataframe\">\n",
       "  <thead>\n",
       "    <tr style=\"text-align: right;\">\n",
       "      <th></th>\n",
       "      <th>event_id</th>\n",
       "      <th>user_id</th>\n",
       "      <th>mode_event</th>\n",
       "      <th>game_name</th>\n",
       "      <th>number_range</th>\n",
       "      <th>skill_id</th>\n",
       "      <th>type_subtask</th>\n",
       "      <th>date</th>\n",
       "      <th>Year</th>\n",
       "      <th>Week</th>\n",
       "      <th>Day</th>\n",
       "      <th>week_sequential</th>\n",
       "      <th>correct</th>\n",
       "      <th>level_2</th>\n",
       "      <th>cumulative_percent_correct</th>\n",
       "    </tr>\n",
       "  </thead>\n",
       "  <tbody>\n",
       "    <tr>\n",
       "      <th>0</th>\n",
       "      <td>118</td>\n",
       "      <td>7</td>\n",
       "      <td>NORMAL</td>\n",
       "      <td>Subitizing</td>\n",
       "      <td>R10</td>\n",
       "      <td>1.0</td>\n",
       "      <td>ConciseTimeoutDescription</td>\n",
       "      <td>2015-03-19 18:48:57.303000+00:00</td>\n",
       "      <td>2015</td>\n",
       "      <td>12</td>\n",
       "      <td>4</td>\n",
       "      <td>0</td>\n",
       "      <td>True</td>\n",
       "      <td>135</td>\n",
       "      <td>1.000000</td>\n",
       "    </tr>\n",
       "    <tr>\n",
       "      <th>1</th>\n",
       "      <td>118</td>\n",
       "      <td>7</td>\n",
       "      <td>NORMAL</td>\n",
       "      <td>Subitizing</td>\n",
       "      <td>R10</td>\n",
       "      <td>1.0</td>\n",
       "      <td>ConciseSubitizingTaskDescription</td>\n",
       "      <td>2015-03-19 18:48:57.303000+00:00</td>\n",
       "      <td>2015</td>\n",
       "      <td>12</td>\n",
       "      <td>4</td>\n",
       "      <td>0</td>\n",
       "      <td>True</td>\n",
       "      <td>134</td>\n",
       "      <td>1.000000</td>\n",
       "    </tr>\n",
       "    <tr>\n",
       "      <th>2</th>\n",
       "      <td>119</td>\n",
       "      <td>7</td>\n",
       "      <td>NORMAL</td>\n",
       "      <td>Conversion</td>\n",
       "      <td>R10</td>\n",
       "      <td>3.0</td>\n",
       "      <td>ConciseConversionTaskDescription</td>\n",
       "      <td>2015-03-20 18:07:17.288000+00:00</td>\n",
       "      <td>2015</td>\n",
       "      <td>12</td>\n",
       "      <td>5</td>\n",
       "      <td>0</td>\n",
       "      <td>True</td>\n",
       "      <td>136</td>\n",
       "      <td>1.000000</td>\n",
       "    </tr>\n",
       "    <tr>\n",
       "      <th>3</th>\n",
       "      <td>120</td>\n",
       "      <td>7</td>\n",
       "      <td>NORMAL</td>\n",
       "      <td>Landing</td>\n",
       "      <td>R10</td>\n",
       "      <td>19.0</td>\n",
       "      <td>ConciseLandingTaskDescription</td>\n",
       "      <td>2015-03-23 15:18:26.515000+00:00</td>\n",
       "      <td>2015</td>\n",
       "      <td>13</td>\n",
       "      <td>1</td>\n",
       "      <td>1</td>\n",
       "      <td>True</td>\n",
       "      <td>137</td>\n",
       "      <td>1.000000</td>\n",
       "    </tr>\n",
       "    <tr>\n",
       "      <th>4</th>\n",
       "      <td>121</td>\n",
       "      <td>7</td>\n",
       "      <td>END_OF_NR</td>\n",
       "      <td>Conversion</td>\n",
       "      <td>R10</td>\n",
       "      <td>7.0</td>\n",
       "      <td>ConciseConversionTaskDescription</td>\n",
       "      <td>2015-04-02 14:03:06.836000+00:00</td>\n",
       "      <td>2015</td>\n",
       "      <td>14</td>\n",
       "      <td>4</td>\n",
       "      <td>2</td>\n",
       "      <td>True</td>\n",
       "      <td>138</td>\n",
       "      <td>1.000000</td>\n",
       "    </tr>\n",
       "    <tr>\n",
       "      <th>...</th>\n",
       "      <td>...</td>\n",
       "      <td>...</td>\n",
       "      <td>...</td>\n",
       "      <td>...</td>\n",
       "      <td>...</td>\n",
       "      <td>...</td>\n",
       "      <td>...</td>\n",
       "      <td>...</td>\n",
       "      <td>...</td>\n",
       "      <td>...</td>\n",
       "      <td>...</td>\n",
       "      <td>...</td>\n",
       "      <td>...</td>\n",
       "      <td>...</td>\n",
       "      <td>...</td>\n",
       "    </tr>\n",
       "    <tr>\n",
       "      <th>53429</th>\n",
       "      <td>24597</td>\n",
       "      <td>644</td>\n",
       "      <td>END_OF_NR</td>\n",
       "      <td>Secret Number</td>\n",
       "      <td>R100</td>\n",
       "      <td>107.0</td>\n",
       "      <td>ConciseNumberInIntervalTaskDescription</td>\n",
       "      <td>2023-02-11 13:04:38.328000+00:00</td>\n",
       "      <td>2023</td>\n",
       "      <td>6</td>\n",
       "      <td>6</td>\n",
       "      <td>20</td>\n",
       "      <td>True</td>\n",
       "      <td>36904</td>\n",
       "      <td>0.777778</td>\n",
       "    </tr>\n",
       "    <tr>\n",
       "      <th>53430</th>\n",
       "      <td>24597</td>\n",
       "      <td>644</td>\n",
       "      <td>END_OF_NR</td>\n",
       "      <td>Secret Number</td>\n",
       "      <td>R100</td>\n",
       "      <td>107.0</td>\n",
       "      <td>ConciseNumberInIntervalTaskDescription</td>\n",
       "      <td>2023-02-11 13:04:38.328000+00:00</td>\n",
       "      <td>2023</td>\n",
       "      <td>6</td>\n",
       "      <td>6</td>\n",
       "      <td>20</td>\n",
       "      <td>True</td>\n",
       "      <td>36903</td>\n",
       "      <td>0.789474</td>\n",
       "    </tr>\n",
       "    <tr>\n",
       "      <th>53431</th>\n",
       "      <td>24597</td>\n",
       "      <td>644</td>\n",
       "      <td>END_OF_NR</td>\n",
       "      <td>Secret Number</td>\n",
       "      <td>R100</td>\n",
       "      <td>107.0</td>\n",
       "      <td>ConciseNumberInIntervalTaskDescription</td>\n",
       "      <td>2023-02-11 13:04:38.328000+00:00</td>\n",
       "      <td>2023</td>\n",
       "      <td>6</td>\n",
       "      <td>6</td>\n",
       "      <td>20</td>\n",
       "      <td>True</td>\n",
       "      <td>36907</td>\n",
       "      <td>0.800000</td>\n",
       "    </tr>\n",
       "    <tr>\n",
       "      <th>54399</th>\n",
       "      <td>12966</td>\n",
       "      <td>318</td>\n",
       "      <td>END_OF_NR</td>\n",
       "      <td>Distance</td>\n",
       "      <td>R100</td>\n",
       "      <td>105.0</td>\n",
       "      <td>ConciseOrdinalityTaskDescription</td>\n",
       "      <td>2023-02-12 09:08:57.789000+00:00</td>\n",
       "      <td>2023</td>\n",
       "      <td>6</td>\n",
       "      <td>7</td>\n",
       "      <td>14</td>\n",
       "      <td>False</td>\n",
       "      <td>19918</td>\n",
       "      <td>0.000000</td>\n",
       "    </tr>\n",
       "    <tr>\n",
       "      <th>55038</th>\n",
       "      <td>25038</td>\n",
       "      <td>664</td>\n",
       "      <td>NORMAL</td>\n",
       "      <td>Landing</td>\n",
       "      <td>R10</td>\n",
       "      <td>18.0</td>\n",
       "      <td>ConciseLandingTaskDescription</td>\n",
       "      <td>2023-02-12 18:42:24.512000+00:00</td>\n",
       "      <td>2023</td>\n",
       "      <td>6</td>\n",
       "      <td>7</td>\n",
       "      <td>0</td>\n",
       "      <td>True</td>\n",
       "      <td>37488</td>\n",
       "      <td>1.000000</td>\n",
       "    </tr>\n",
       "  </tbody>\n",
       "</table>\n",
       "<p>55047 rows × 15 columns</p>\n",
       "</div>"
      ],
      "text/plain": [
       "       event_id  user_id mode_event      game_name number_range  skill_id  \\\n",
       "0           118        7     NORMAL     Subitizing          R10       1.0   \n",
       "1           118        7     NORMAL     Subitizing          R10       1.0   \n",
       "2           119        7     NORMAL     Conversion          R10       3.0   \n",
       "3           120        7     NORMAL        Landing          R10      19.0   \n",
       "4           121        7  END_OF_NR     Conversion          R10       7.0   \n",
       "...         ...      ...        ...            ...          ...       ...   \n",
       "53429     24597      644  END_OF_NR  Secret Number         R100     107.0   \n",
       "53430     24597      644  END_OF_NR  Secret Number         R100     107.0   \n",
       "53431     24597      644  END_OF_NR  Secret Number         R100     107.0   \n",
       "54399     12966      318  END_OF_NR       Distance         R100     105.0   \n",
       "55038     25038      664     NORMAL        Landing          R10      18.0   \n",
       "\n",
       "                                 type_subtask  \\\n",
       "0                   ConciseTimeoutDescription   \n",
       "1            ConciseSubitizingTaskDescription   \n",
       "2            ConciseConversionTaskDescription   \n",
       "3               ConciseLandingTaskDescription   \n",
       "4            ConciseConversionTaskDescription   \n",
       "...                                       ...   \n",
       "53429  ConciseNumberInIntervalTaskDescription   \n",
       "53430  ConciseNumberInIntervalTaskDescription   \n",
       "53431  ConciseNumberInIntervalTaskDescription   \n",
       "54399        ConciseOrdinalityTaskDescription   \n",
       "55038           ConciseLandingTaskDescription   \n",
       "\n",
       "                                  date  Year  Week  Day  week_sequential  \\\n",
       "0     2015-03-19 18:48:57.303000+00:00  2015    12    4                0   \n",
       "1     2015-03-19 18:48:57.303000+00:00  2015    12    4                0   \n",
       "2     2015-03-20 18:07:17.288000+00:00  2015    12    5                0   \n",
       "3     2015-03-23 15:18:26.515000+00:00  2015    13    1                1   \n",
       "4     2015-04-02 14:03:06.836000+00:00  2015    14    4                2   \n",
       "...                                ...   ...   ...  ...              ...   \n",
       "53429 2023-02-11 13:04:38.328000+00:00  2023     6    6               20   \n",
       "53430 2023-02-11 13:04:38.328000+00:00  2023     6    6               20   \n",
       "53431 2023-02-11 13:04:38.328000+00:00  2023     6    6               20   \n",
       "54399 2023-02-12 09:08:57.789000+00:00  2023     6    7               14   \n",
       "55038 2023-02-12 18:42:24.512000+00:00  2023     6    7                0   \n",
       "\n",
       "      correct  level_2  cumulative_percent_correct  \n",
       "0        True      135                    1.000000  \n",
       "1        True      134                    1.000000  \n",
       "2        True      136                    1.000000  \n",
       "3        True      137                    1.000000  \n",
       "4        True      138                    1.000000  \n",
       "...       ...      ...                         ...  \n",
       "53429    True    36904                    0.777778  \n",
       "53430    True    36903                    0.789474  \n",
       "53431    True    36907                    0.800000  \n",
       "54399   False    19918                    0.000000  \n",
       "55038    True    37488                    1.000000  \n",
       "\n",
       "[55047 rows x 15 columns]"
      ]
     },
     "execution_count": 21,
     "metadata": {},
     "output_type": "execute_result"
    }
   ],
   "source": [
    "df"
   ]
  },
  {
   "cell_type": "code",
   "execution_count": 22,
   "id": "6b5cf49c-d30d-442a-8806-91411019078c",
   "metadata": {},
   "outputs": [
    {
     "data": {
      "text/plain": [
       "event_id                      0\n",
       "user_id                       0\n",
       "mode_event                    0\n",
       "game_name                     0\n",
       "number_range                  0\n",
       "skill_id                      0\n",
       "type_subtask                  0\n",
       "date                          0\n",
       "Year                          0\n",
       "Week                          0\n",
       "Day                           0\n",
       "week_sequential               0\n",
       "correct                       0\n",
       "level_2                       0\n",
       "cumulative_percent_correct    0\n",
       "dtype: int64"
      ]
     },
     "execution_count": 22,
     "metadata": {},
     "output_type": "execute_result"
    }
   ],
   "source": [
    "# Check there are no nans\n",
    "df.isna().sum()"
   ]
  },
  {
   "cell_type": "code",
   "execution_count": 23,
   "id": "319c7bd3-144c-485a-8fa5-8129f27218f6",
   "metadata": {},
   "outputs": [],
   "source": [
    "# LGBM only accepts int, bool and float\n",
    "for col in cat_features:\n",
    "    # Convert categories into ints\n",
    "    df[col] = df[col].astype('category')\n",
    "df['week_sequential'] = df['week_sequential'].astype('int32')\n",
    "df[target_feature] = df[target_feature].astype('bool')"
   ]
  },
  {
   "cell_type": "markdown",
   "id": "3bde4645-9ea2-45de-9941-e2d6ba91d2f8",
   "metadata": {},
   "source": [
    "## Create train / validation split\n",
    "- Split on user id (model should be evaluated on students it has never seen before)\n",
    "- More sophisticated splitting on larger dataset\n"
   ]
  },
  {
   "cell_type": "code",
   "execution_count": 24,
   "id": "51c24520-0fe1-4fa2-9487-f6552beb7763",
   "metadata": {},
   "outputs": [],
   "source": [
    "generated_features = ['cumulative_percent_correct']\n",
    "features = index + cat_features + generated_features + ['week_sequential']\n",
    "\n",
    "train = df.query('user_id < 800')[features]\n",
    "y_train = df.query('user_id < 800')[target_feature]\n",
    "\n",
    "val = df.query('user_id > 800')[features]\n",
    "y_val = df.query('user_id > 800')[target_feature]"
   ]
  },
  {
   "cell_type": "code",
   "execution_count": null,
   "id": "f755ee63-7269-4587-8243-c1c1cbfdda54",
   "metadata": {},
   "outputs": [],
   "source": [
    "lgb_train = lgb.Dataset(train, y_train, categorical_feature = cat_features)\n",
    "lgb_eval = lgb.Dataset(val, y_val, categorical_feature = cat_features)"
   ]
  },
  {
   "cell_type": "markdown",
   "id": "bf5bad3d-5d64-4d89-ab6b-934e9fd9698e",
   "metadata": {},
   "source": [
    "## Build Model"
   ]
  },
  {
   "cell_type": "code",
   "execution_count": 25,
   "id": "1edccf25-d7a4-4043-9df5-8ff8ddf608e6",
   "metadata": {},
   "outputs": [],
   "source": [
    "params = {'objective': 'binary',\n",
    "          'metric': 'auc',\n",
    "          'seed': 0,\n",
    "          'learning_rate': 0.1, #default\n",
    "          \"boosting_type\": \"gbdt\" #default\n",
    "          # 'num_leaves': 200,\n",
    "          # 'feature_fraction': 0.75,\n",
    "          # 'bagging_freq': 10,\n",
    "          # 'bagging_fraction': 0.80\n",
    "         }"
   ]
  },
  {
   "cell_type": "code",
   "execution_count": 27,
   "id": "9ed431e9-74b0-46a2-87b3-1e745216fe80",
   "metadata": {},
   "outputs": [
    {
     "name": "stderr",
     "output_type": "stream",
     "text": [
      "/home/my_venvs/mlbd-project/lib/python3.8/site-packages/lightgbm/engine.py:181: UserWarning: 'early_stopping_rounds' argument is deprecated and will be removed in a future release of LightGBM. Pass 'early_stopping()' callback via 'callbacks' argument instead.\n",
      "  _log_warning(\"'early_stopping_rounds' argument is deprecated and will be removed in a future release of LightGBM. \"\n",
      "/home/my_venvs/mlbd-project/lib/python3.8/site-packages/lightgbm/basic.py:2065: UserWarning: Using categorical_feature in Dataset.\n",
      "  _log_warning('Using categorical_feature in Dataset.')\n",
      "/home/my_venvs/mlbd-project/lib/python3.8/site-packages/lightgbm/engine.py:239: UserWarning: 'verbose_eval' argument is deprecated and will be removed in a future release of LightGBM. Pass 'log_evaluation()' callback via 'callbacks' argument instead.\n",
      "  _log_warning(\"'verbose_eval' argument is deprecated and will be removed in a future release of LightGBM. \"\n"
     ]
    },
    {
     "name": "stdout",
     "output_type": "stream",
     "text": [
      "[LightGBM] [Info] Number of positive: 35935, number of negative: 8595\n",
      "[LightGBM] [Warning] Auto-choosing row-wise multi-threading, the overhead of testing was 0.003572 seconds.\n",
      "You can set `force_row_wise=true` to remove the overhead.\n",
      "And if memory is not enough, you can set `force_col_wise=true`.\n",
      "[LightGBM] [Info] Total Bins 1215\n",
      "[LightGBM] [Info] Number of data points in the train set: 44530, number of used features: 9\n"
     ]
    },
    {
     "name": "stderr",
     "output_type": "stream",
     "text": [
      "/home/my_venvs/mlbd-project/lib/python3.8/site-packages/lightgbm/basic.py:1780: UserWarning: Overriding the parameters from Reference Dataset.\n",
      "  _log_warning('Overriding the parameters from Reference Dataset.')\n",
      "/home/my_venvs/mlbd-project/lib/python3.8/site-packages/lightgbm/basic.py:1513: UserWarning: categorical_column in param dict is overridden.\n",
      "  _log_warning(f'{cat_alias} in param dict is overridden.')\n"
     ]
    },
    {
     "name": "stdout",
     "output_type": "stream",
     "text": [
      "[LightGBM] [Info] [binary:BoostFromScore]: pavg=0.806984 -> initscore=1.430531\n",
      "[LightGBM] [Info] Start training from score 1.430531\n",
      "Training until validation scores don't improve for 8 rounds\n",
      "Early stopping, best iteration is:\n",
      "[25]\ttraining's auc: 0.978677\tvalid_1's auc: 0.977868\n",
      "CPU times: user 22.2 s, sys: 253 ms, total: 22.4 s\n",
      "Wall time: 13.6 s\n"
     ]
    }
   ],
   "source": [
    "%%time\n",
    "model = lgb.train(\n",
    "    params, lgb_train,\n",
    "    valid_sets=[lgb_train, lgb_eval],\n",
    "    verbose_eval=50,\n",
    "    num_boost_round=10000,\n",
    "    early_stopping_rounds=8\n",
    ")"
   ]
  },
  {
   "cell_type": "markdown",
   "id": "99cce939-fe7b-48ed-8b8a-e63b799e9f4c",
   "metadata": {},
   "source": [
    "## Evaluate Model\n",
    "- Compare performance per skill\n",
    "- Look at feature importances (try SHAP in future)"
   ]
  },
  {
   "cell_type": "code",
   "execution_count": 32,
   "id": "320ad12b-bfe3-47ef-a6d5-6c6c6c938b81",
   "metadata": {},
   "outputs": [
    {
     "ename": "TypeError",
     "evalue": "Can only eval for Dataset instance",
     "output_type": "error",
     "traceback": [
      "\u001b[0;31m---------------------------------------------------------------------------\u001b[0m",
      "\u001b[0;31mTypeError\u001b[0m                                 Traceback (most recent call last)",
      "Input \u001b[0;32mIn [32]\u001b[0m, in \u001b[0;36m<cell line: 1>\u001b[0;34m()\u001b[0m\n\u001b[0;32m----> 1\u001b[0m \u001b[43mmodel\u001b[49m\u001b[38;5;241;43m.\u001b[39;49m\u001b[43meval\u001b[49m\u001b[43m(\u001b[49m\u001b[43mval\u001b[49m\u001b[43m,\u001b[49m\u001b[43m \u001b[49m\u001b[38;5;124;43m'\u001b[39;49m\u001b[38;5;124;43mval\u001b[39;49m\u001b[38;5;124;43m'\u001b[39;49m\u001b[43m)\u001b[49m\n",
      "File \u001b[0;32m~/my_venvs/mlbd-project/lib/python3.8/site-packages/lightgbm/basic.py:3191\u001b[0m, in \u001b[0;36mBooster.eval\u001b[0;34m(self, data, name, feval)\u001b[0m\n\u001b[1;32m   3156\u001b[0m \u001b[38;5;124;03m\"\"\"Evaluate for data.\u001b[39;00m\n\u001b[1;32m   3157\u001b[0m \n\u001b[1;32m   3158\u001b[0m \u001b[38;5;124;03mParameters\u001b[39;00m\n\u001b[0;32m   (...)\u001b[0m\n\u001b[1;32m   3188\u001b[0m \u001b[38;5;124;03m    List with evaluation results.\u001b[39;00m\n\u001b[1;32m   3189\u001b[0m \u001b[38;5;124;03m\"\"\"\u001b[39;00m\n\u001b[1;32m   3190\u001b[0m \u001b[38;5;28;01mif\u001b[39;00m \u001b[38;5;129;01mnot\u001b[39;00m \u001b[38;5;28misinstance\u001b[39m(data, Dataset):\n\u001b[0;32m-> 3191\u001b[0m     \u001b[38;5;28;01mraise\u001b[39;00m \u001b[38;5;167;01mTypeError\u001b[39;00m(\u001b[38;5;124m\"\u001b[39m\u001b[38;5;124mCan only eval for Dataset instance\u001b[39m\u001b[38;5;124m\"\u001b[39m)\n\u001b[1;32m   3192\u001b[0m data_idx \u001b[38;5;241m=\u001b[39m \u001b[38;5;241m-\u001b[39m\u001b[38;5;241m1\u001b[39m\n\u001b[1;32m   3193\u001b[0m \u001b[38;5;28;01mif\u001b[39;00m data \u001b[38;5;129;01mis\u001b[39;00m \u001b[38;5;28mself\u001b[39m\u001b[38;5;241m.\u001b[39mtrain_set:\n",
      "\u001b[0;31mTypeError\u001b[0m: Can only eval for Dataset instance"
     ]
    }
   ],
   "source": [
    "# TODO fix\n",
    "model.eval(val, 'val')"
   ]
  },
  {
   "cell_type": "code",
   "execution_count": 30,
   "id": "477f47a5-a78d-4c54-a396-92f8369ee764",
   "metadata": {},
   "outputs": [
    {
     "data": {
      "text/html": [
       "<div>\n",
       "<style scoped>\n",
       "    .dataframe tbody tr th:only-of-type {\n",
       "        vertical-align: middle;\n",
       "    }\n",
       "\n",
       "    .dataframe tbody tr th {\n",
       "        vertical-align: top;\n",
       "    }\n",
       "\n",
       "    .dataframe thead th {\n",
       "        text-align: right;\n",
       "    }\n",
       "</style>\n",
       "<table border=\"1\" class=\"dataframe\">\n",
       "  <thead>\n",
       "    <tr style=\"text-align: right;\">\n",
       "      <th></th>\n",
       "      <th>event_id</th>\n",
       "      <th>user_id</th>\n",
       "      <th>mode_event</th>\n",
       "      <th>game_name</th>\n",
       "      <th>number_range</th>\n",
       "      <th>skill_id</th>\n",
       "      <th>type_subtask</th>\n",
       "      <th>cumulative_percent_correct</th>\n",
       "      <th>week_sequential</th>\n",
       "    </tr>\n",
       "  </thead>\n",
       "  <tbody>\n",
       "    <tr>\n",
       "      <th>25831</th>\n",
       "      <td>31862</td>\n",
       "      <td>851</td>\n",
       "      <td>END_OF_NR</td>\n",
       "      <td>Estimation</td>\n",
       "      <td>R10</td>\n",
       "      <td>0.0</td>\n",
       "      <td>ConciseEstimationTaskDescription</td>\n",
       "      <td>1.000000</td>\n",
       "      <td>20</td>\n",
       "    </tr>\n",
       "    <tr>\n",
       "      <th>25832</th>\n",
       "      <td>31862</td>\n",
       "      <td>851</td>\n",
       "      <td>END_OF_NR</td>\n",
       "      <td>Estimation</td>\n",
       "      <td>R10</td>\n",
       "      <td>0.0</td>\n",
       "      <td>ConciseTimeoutDescription</td>\n",
       "      <td>1.000000</td>\n",
       "      <td>20</td>\n",
       "    </tr>\n",
       "    <tr>\n",
       "      <th>26326</th>\n",
       "      <td>35720</td>\n",
       "      <td>956</td>\n",
       "      <td>END_OF_NR</td>\n",
       "      <td>Conversion</td>\n",
       "      <td>R10</td>\n",
       "      <td>0.0</td>\n",
       "      <td>ConciseConversionTaskDescription</td>\n",
       "      <td>1.000000</td>\n",
       "      <td>18</td>\n",
       "    </tr>\n",
       "    <tr>\n",
       "      <th>28389</th>\n",
       "      <td>37392</td>\n",
       "      <td>998</td>\n",
       "      <td>NORMAL</td>\n",
       "      <td>Subitizing</td>\n",
       "      <td>R10</td>\n",
       "      <td>0.0</td>\n",
       "      <td>ConciseTimeoutDescription</td>\n",
       "      <td>1.000000</td>\n",
       "      <td>0</td>\n",
       "    </tr>\n",
       "    <tr>\n",
       "      <th>28390</th>\n",
       "      <td>37392</td>\n",
       "      <td>998</td>\n",
       "      <td>NORMAL</td>\n",
       "      <td>Subitizing</td>\n",
       "      <td>R10</td>\n",
       "      <td>0.0</td>\n",
       "      <td>ConciseSubitizingTaskDescription</td>\n",
       "      <td>1.000000</td>\n",
       "      <td>0</td>\n",
       "    </tr>\n",
       "    <tr>\n",
       "      <th>...</th>\n",
       "      <td>...</td>\n",
       "      <td>...</td>\n",
       "      <td>...</td>\n",
       "      <td>...</td>\n",
       "      <td>...</td>\n",
       "      <td>...</td>\n",
       "      <td>...</td>\n",
       "      <td>...</td>\n",
       "      <td>...</td>\n",
       "    </tr>\n",
       "    <tr>\n",
       "      <th>48067</th>\n",
       "      <td>36841</td>\n",
       "      <td>980</td>\n",
       "      <td>FREE_TRAINING</td>\n",
       "      <td>Comparison</td>\n",
       "      <td>R10</td>\n",
       "      <td>0.0</td>\n",
       "      <td>ConciseSetComparisonTaskDescription</td>\n",
       "      <td>0.928571</td>\n",
       "      <td>52</td>\n",
       "    </tr>\n",
       "    <tr>\n",
       "      <th>48068</th>\n",
       "      <td>36842</td>\n",
       "      <td>980</td>\n",
       "      <td>FREE_TRAINING</td>\n",
       "      <td>Comparison</td>\n",
       "      <td>R10</td>\n",
       "      <td>0.0</td>\n",
       "      <td>ConciseTimeoutDescription</td>\n",
       "      <td>0.933333</td>\n",
       "      <td>52</td>\n",
       "    </tr>\n",
       "    <tr>\n",
       "      <th>48069</th>\n",
       "      <td>36842</td>\n",
       "      <td>980</td>\n",
       "      <td>FREE_TRAINING</td>\n",
       "      <td>Comparison</td>\n",
       "      <td>R10</td>\n",
       "      <td>0.0</td>\n",
       "      <td>ConciseSetComparisonTaskDescription</td>\n",
       "      <td>0.937500</td>\n",
       "      <td>52</td>\n",
       "    </tr>\n",
       "    <tr>\n",
       "      <th>38652</th>\n",
       "      <td>30221</td>\n",
       "      <td>802</td>\n",
       "      <td>FREE_TRAINING</td>\n",
       "      <td>Comparison</td>\n",
       "      <td>R10</td>\n",
       "      <td>0.0</td>\n",
       "      <td>ConciseSetComparisonTaskDescription</td>\n",
       "      <td>0.923077</td>\n",
       "      <td>95</td>\n",
       "    </tr>\n",
       "    <tr>\n",
       "      <th>38653</th>\n",
       "      <td>30221</td>\n",
       "      <td>802</td>\n",
       "      <td>FREE_TRAINING</td>\n",
       "      <td>Comparison</td>\n",
       "      <td>R10</td>\n",
       "      <td>0.0</td>\n",
       "      <td>ConciseTimeoutDescription</td>\n",
       "      <td>0.928571</td>\n",
       "      <td>95</td>\n",
       "    </tr>\n",
       "  </tbody>\n",
       "</table>\n",
       "<p>400 rows × 9 columns</p>\n",
       "</div>"
      ],
      "text/plain": [
       "       event_id  user_id     mode_event   game_name number_range skill_id  \\\n",
       "25831     31862      851      END_OF_NR  Estimation          R10      0.0   \n",
       "25832     31862      851      END_OF_NR  Estimation          R10      0.0   \n",
       "26326     35720      956      END_OF_NR  Conversion          R10      0.0   \n",
       "28389     37392      998         NORMAL  Subitizing          R10      0.0   \n",
       "28390     37392      998         NORMAL  Subitizing          R10      0.0   \n",
       "...         ...      ...            ...         ...          ...      ...   \n",
       "48067     36841      980  FREE_TRAINING  Comparison          R10      0.0   \n",
       "48068     36842      980  FREE_TRAINING  Comparison          R10      0.0   \n",
       "48069     36842      980  FREE_TRAINING  Comparison          R10      0.0   \n",
       "38652     30221      802  FREE_TRAINING  Comparison          R10      0.0   \n",
       "38653     30221      802  FREE_TRAINING  Comparison          R10      0.0   \n",
       "\n",
       "                              type_subtask  cumulative_percent_correct  \\\n",
       "25831     ConciseEstimationTaskDescription                    1.000000   \n",
       "25832            ConciseTimeoutDescription                    1.000000   \n",
       "26326     ConciseConversionTaskDescription                    1.000000   \n",
       "28389            ConciseTimeoutDescription                    1.000000   \n",
       "28390     ConciseSubitizingTaskDescription                    1.000000   \n",
       "...                                    ...                         ...   \n",
       "48067  ConciseSetComparisonTaskDescription                    0.928571   \n",
       "48068            ConciseTimeoutDescription                    0.933333   \n",
       "48069  ConciseSetComparisonTaskDescription                    0.937500   \n",
       "38652  ConciseSetComparisonTaskDescription                    0.923077   \n",
       "38653            ConciseTimeoutDescription                    0.928571   \n",
       "\n",
       "       week_sequential  \n",
       "25831               20  \n",
       "25832               20  \n",
       "26326               18  \n",
       "28389                0  \n",
       "28390                0  \n",
       "...                ...  \n",
       "48067               52  \n",
       "48068               52  \n",
       "48069               52  \n",
       "38652               95  \n",
       "38653               95  \n",
       "\n",
       "[400 rows x 9 columns]"
      ]
     },
     "execution_count": 30,
     "metadata": {},
     "output_type": "execute_result"
    }
   ],
   "source": [
    "# Compare performance per skill\n",
    "val.query('skill_id == 0')"
   ]
  },
  {
   "cell_type": "code",
   "execution_count": 28,
   "id": "b1785248-a2a6-4cec-87f3-4c3e275b7396",
   "metadata": {},
   "outputs": [
    {
     "data": {
      "image/png": "[encoded data removed]",
      "text/plain": [
       "<Figure size 640x480 with 1 Axes>"
      ]
     },
     "metadata": {},
     "output_type": "display_data"
    }
   ],
   "source": [
    "lgb.plot_importance(model)\n",
    "plt.show()"
   ]
  },
  {
   "cell_type": "code",
   "execution_count": 37,
   "id": "7a95983a-5292-45bd-8f6c-809e968a156a",
   "metadata": {},
   "outputs": [
    {
     "name": "stdout",
     "output_type": "stream",
     "text": [
      "Split value histogram for feature 0:\n",
      "Bin edges: [1.00000002e-35 3.55000000e+00 7.10000000e+00 1.06500000e+01\n",
      " 1.42000000e+01 1.77500000e+01 2.13000000e+01 2.48500000e+01\n",
      " 2.84000000e+01 3.19500000e+01 3.55000000e+01 3.90500000e+01\n",
      " 4.26000000e+01 4.61500000e+01 4.97000000e+01 5.32500000e+01\n",
      " 5.68000000e+01 6.03500000e+01 6.39000000e+01 6.74500000e+01\n",
      " 7.10000000e+01 7.45500000e+01 7.81000000e+01 8.16500000e+01\n",
      " 8.52000000e+01 8.87500000e+01 9.23000000e+01 9.58500000e+01\n",
      " 9.94000000e+01 1.02950000e+02 1.06500000e+02 1.10050000e+02\n",
      " 1.13600000e+02 1.17150000e+02 1.20700000e+02 1.24250000e+02\n",
      " 1.27800000e+02 1.31350000e+02 1.34900000e+02 1.38450000e+02\n",
      " 1.42000000e+02 1.45550000e+02 1.49100000e+02 1.52650000e+02\n",
      " 1.56200000e+02 1.59750000e+02 1.63300000e+02 1.66850000e+02\n",
      " 1.70400000e+02 1.73950000e+02 1.77500000e+02]\n",
      "Histogram: [34 17 10  7  3  9  8  4  3  1  5  4  1  2  4  5  5  0  0  0  5  5  3  0\n",
      "  0  2  0  1  2  3  0  0  0  1  2  3  1  0  0  1  2  0  2  0  1  0  2  1\n",
      "  0  1]\n"
     ]
    }
   ],
   "source": [
    "# compute the split value histogram for the selected feature\n",
    "hist, bin_edges = model.get_split_value_histogram('week_sequential', bins=50, xgboost_style=False)\n",
    "\n",
    "# print the histogram and bin edges\n",
    "print('Split value histogram for feature {}:'.format(0))\n",
    "print('Bin edges:', bin_edges)\n",
    "print('Histogram:', hist)"
   ]
  },
  {
   "cell_type": "code",
   "execution_count": 38,
   "id": "86ea5899-3f56-4db4-89d5-44634e4ccefe",
   "metadata": {},
   "outputs": [
    {
     "data": {
      "image/png": "[encoded data removed]",
      "text/plain": [
       "<Figure size 640x480 with 1 Axes>"
      ]
     },
     "metadata": {},
     "output_type": "display_data"
    }
   ],
   "source": [
    "# plot the histogram\n",
    "plt.bar(bin_edges[:-1], hist, width=(bin_edges[1]-bin_edges[0])*0.7, align='edge')\n",
    "\n",
    "# add labels and title\n",
    "plt.xlabel('Split value')\n",
    "plt.ylabel('Count')\n",
    "plt.title('Split value histogram for feature {}'.format(0))\n",
    "\n",
    "# display the plot\n",
    "plt.show()"
   ]
  },
  {
   "cell_type": "code",
   "execution_count": 40,
   "id": "8658312d-66ef-48d7-829e-b8605b0fb6a9",
   "metadata": {},
   "outputs": [],
   "source": [
    "# Notes\n",
    "# Split on students never seen before\n",
    "# Train on all, evaluate on one skill at a time (why does the model perform bettwe for certain skills)\n",
    "# Categorical features -> one hot might be more explainable\n",
    "    # Performance is typically better with integer encoding\n",
    "# Plot each skill forecast ?\n",
    "# LSTM (watch lecture), Transformer (need lots of data)"
   ]
  },
  {
   "cell_type": "code",
   "execution_count": null,
   "id": "ac51fbd8-cf9d-46fd-a9ef-85b8963bfdfd",
   "metadata": {},
   "outputs": [],
   "source": []
  }
 ],
 "metadata": {
  "kernelspec": {
   "display_name": "mlbd-project",
   "language": "python",
   "name": "mlbd-project"
  },
  "language_info": {
   "codemirror_mode": {
    "name": "ipython",
    "version": 3
   },
   "file_extension": ".py",
   "mimetype": "text/x-python",
   "name": "python",
   "nbconvert_exporter": "python",
   "pygments_lexer": "ipython3",
   "version": "3.8.10"
  }
 },
 "nbformat": 4,
 "nbformat_minor": 5
}
